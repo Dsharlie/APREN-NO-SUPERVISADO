{
 "cells": [
  {
   "cell_type": "markdown",
   "id": "d678be07",
   "metadata": {},
   "source": [
    "<div >\n",
    "<img src = \"figs/ans_banner_1920x200.png\" />\n",
    "</div>"
   ]
  },
  {
   "cell_type": "markdown",
   "id": "683bbea6",
   "metadata": {},
   "source": [
    "# Caso-taller:  Recomendando el Blog de  Hernán Casciari \n",
    "\n",
    "\n",
    "[Hernán Casciari](https://hernancasciari.com/#bio), es un escritor argentino, que escribe blog posts con cuentos e historias  relacionadas con el futbol, su vida, infancia, y relaciones familiares con toques de ficción. Este [blog](https://hernancasciari.com/blog/) es  tan interesantes que en 2005 fue premiado como “El mejor blog del mundo” por Deutsche Welle de Alemania. \n",
    "\n",
    "El objetivo de este caso-taller es construir un sistema de recomendación basado en los contenidos de los posts utilizando similitud de las palabras usadas o temas de los cuentos."
   ]
  },
  {
   "cell_type": "markdown",
   "id": "c17d0379",
   "metadata": {},
   "source": [
    "## Instrucciones generales\n",
    "\n",
    "1. Para desarrollar el *cuaderno* primero debe descargarlo.\n",
    "\n",
    "2. Para responder cada inciso deberá utilizar el espacio debidamente especificado.\n",
    "\n",
    "3. La actividad será calificada sólo si sube el *cuaderno* de jupyter notebook con extensión `.ipynb` en la actividad designada como \"Revisión por el compañero.\"\n",
    "\n",
    "4. El archivo entregado debe poder ser ejecutado localmente por los pares. Sea cuidadoso con la especificación de la ubicación de los archivos de soporte, guarde la carpeta de datos  en la misma ruta de acceso del cuaderno, por ejemplo: `data`."
   ]
  },
  {
   "cell_type": "markdown",
   "id": "0e63b7dd",
   "metadata": {},
   "source": [
    "## Desarrollo\n"
   ]
  },
  {
   "cell_type": "markdown",
   "id": "9a48282c",
   "metadata": {},
   "source": [
    "### 1. Carga de datos \n",
    "\n",
    "En la carpeta `data` se encuentran el archivo `blog_casciari.csv` con el título, la fecha de publicación, y el contenido de los cuentos publicados en el blog  de sr. Casciari. Cargue estos datos en su *cuaderno* y reporte brevemente el contenido de la base.\n",
    "   "
   ]
  },
  {
   "cell_type": "code",
   "execution_count": 54,
   "id": "d8fd558e",
   "metadata": {},
   "outputs": [
    {
     "name": "stderr",
     "output_type": "stream",
     "text": [
      "C:\\Users\\Asus\\anaconda3\\lib\\site-packages\\ipykernel\\ipkernel.py:287: DeprecationWarning: `should_run_async` will not call `transform_cell` automatically in the future. Please pass the result to `transformed_cell` argument and any exception that happen during thetransform in `preprocessing_exc_tuple` in IPython 7.17 and above.\n",
      "  and should_run_async(code)\n"
     ]
    }
   ],
   "source": [
    "# Cargar librerias necesarias para el desarrollo del presente proyecto\n",
    "import pandas as pd\n",
    "from matplotlib import pyplot as plt\n",
    "import seaborn as sns\n",
    "import numpy as np\n",
    "import re\n",
    "import unidecode\n",
    "import spacy\n",
    "from gensim.corpora import Dictionary\n",
    "from sklearn.feature_extraction.text import TfidfVectorizer\n",
    "from sklearn.metrics.pairwise import linear_kernel\n",
    "from sklearn.feature_extraction.text import CountVectorizer\n",
    "from gensim.models import LdaModel\n",
    "from pprint import pprint\n",
    "from gensim.models import CoherenceModel\n",
    "from gensim.models.ldamulticore import LdaMulticore\n",
    "from sklearn.decomposition import LatentDirichletAllocation\n",
    "import sklearn\n",
    "from sklearn.feature_extraction.text import CountVectorizer"
   ]
  },
  {
   "cell_type": "code",
   "execution_count": 2,
   "id": "05a7f77a",
   "metadata": {},
   "outputs": [],
   "source": [
    "# Se cargan los datos requeridos y solicitados\n",
    "data = pd.read_csv('data/blog_casciari.csv')"
   ]
  },
  {
   "cell_type": "code",
   "execution_count": 3,
   "id": "bd39cc45",
   "metadata": {},
   "outputs": [
    {
     "data": {
      "text/plain": [
       "(520, 3)"
      ]
     },
     "execution_count": 3,
     "metadata": {},
     "output_type": "execute_result"
    }
   ],
   "source": [
    "# Se muestra la estructura del dataset\n",
    "data.shape"
   ]
  },
  {
   "cell_type": "code",
   "execution_count": 4,
   "id": "f8b00106",
   "metadata": {},
   "outputs": [
    {
     "data": {
      "text/html": [
       "<div>\n",
       "<style scoped>\n",
       "    .dataframe tbody tr th:only-of-type {\n",
       "        vertical-align: middle;\n",
       "    }\n",
       "\n",
       "    .dataframe tbody tr th {\n",
       "        vertical-align: top;\n",
       "    }\n",
       "\n",
       "    .dataframe thead th {\n",
       "        text-align: right;\n",
       "    }\n",
       "</style>\n",
       "<table border=\"1\" class=\"dataframe\">\n",
       "  <thead>\n",
       "    <tr style=\"text-align: right;\">\n",
       "      <th></th>\n",
       "      <th>titulo</th>\n",
       "      <th>fecha</th>\n",
       "      <th>cuento</th>\n",
       "    </tr>\n",
       "  </thead>\n",
       "  <tbody>\n",
       "    <tr>\n",
       "      <th>0</th>\n",
       "      <td>El rincón blanco</td>\n",
       "      <td>1/11/08</td>\n",
       "      <td>De pronto yo estaba en el hogar donde pasé la ...</td>\n",
       "    </tr>\n",
       "    <tr>\n",
       "      <th>1</th>\n",
       "      <td>Mínimos avances en la cama</td>\n",
       "      <td>1/24/08</td>\n",
       "      <td>Menos la cama, todo ha mejorado en este mundo....</td>\n",
       "    </tr>\n",
       "    <tr>\n",
       "      <th>2</th>\n",
       "      <td>Don Marcos</td>\n",
       "      <td>2/19/08</td>\n",
       "      <td>Dos veces, y no una, mi abuelo materno me ayud...</td>\n",
       "    </tr>\n",
       "    <tr>\n",
       "      <th>3</th>\n",
       "      <td>Los dos rulfos</td>\n",
       "      <td>3/26/08</td>\n",
       "      <td>A su regreso de México, mi amigo Comequechu no...</td>\n",
       "    </tr>\n",
       "    <tr>\n",
       "      <th>4</th>\n",
       "      <td>La noticia no es el perro</td>\n",
       "      <td>4/15/08</td>\n",
       "      <td>De repente, un video de You Tube recibe un mil...</td>\n",
       "    </tr>\n",
       "  </tbody>\n",
       "</table>\n",
       "</div>"
      ],
      "text/plain": [
       "                       titulo    fecha  \\\n",
       "0            El rincón blanco  1/11/08   \n",
       "1  Mínimos avances en la cama  1/24/08   \n",
       "2                  Don Marcos  2/19/08   \n",
       "3              Los dos rulfos  3/26/08   \n",
       "4   La noticia no es el perro  4/15/08   \n",
       "\n",
       "                                              cuento  \n",
       "0  De pronto yo estaba en el hogar donde pasé la ...  \n",
       "1  Menos la cama, todo ha mejorado en este mundo....  \n",
       "2  Dos veces, y no una, mi abuelo materno me ayud...  \n",
       "3  A su regreso de México, mi amigo Comequechu no...  \n",
       "4  De repente, un video de You Tube recibe un mil...  "
      ]
     },
     "execution_count": 4,
     "metadata": {},
     "output_type": "execute_result"
    }
   ],
   "source": [
    "# Mostramos un preview del dataset\n",
    "data.head()"
   ]
  },
  {
   "cell_type": "code",
   "execution_count": 5,
   "id": "58d925b6",
   "metadata": {},
   "outputs": [
    {
     "name": "stdout",
     "output_type": "stream",
     "text": [
      "<class 'pandas.core.frame.DataFrame'>\n",
      "RangeIndex: 520 entries, 0 to 519\n",
      "Data columns (total 3 columns):\n",
      " #   Column  Non-Null Count  Dtype \n",
      "---  ------  --------------  ----- \n",
      " 0   titulo  520 non-null    object\n",
      " 1   fecha   520 non-null    object\n",
      " 2   cuento  520 non-null    object\n",
      "dtypes: object(3)\n",
      "memory usage: 12.3+ KB\n"
     ]
    }
   ],
   "source": [
    "# Revisamos el tipo de dato de cada columna del dataframe\n",
    "data.info()"
   ]
  },
  {
   "cell_type": "code",
   "execution_count": 6,
   "id": "4de7f876",
   "metadata": {},
   "outputs": [
    {
     "data": {
      "text/plain": [
       "520"
      ]
     },
     "execution_count": 6,
     "metadata": {},
     "output_type": "execute_result"
    }
   ],
   "source": [
    "# Verificamos que no haya ningún cuento duplicado\n",
    "len(data['titulo'].unique())"
   ]
  },
  {
   "cell_type": "code",
   "execution_count": 7,
   "id": "c61240ea",
   "metadata": {},
   "outputs": [
    {
     "data": {
      "image/png": "[encoded data removed]",
      "text/plain": [
       "<Figure size 640x480 with 1 Axes>"
      ]
     },
     "metadata": {},
     "output_type": "display_data"
    }
   ],
   "source": [
    "# Revisamos brevemente la distribución del conteo de palabras por cuento\n",
    "data_dup = data.copy()\n",
    "data_dup['conteo_palabras'] = data_dup['cuento'].apply(lambda x: len(x.split()))\n",
    "plt.title('Histograma Conteo Palabras Cuentos')\n",
    "plt.xlabel('Cantidad Palabras')\n",
    "plt.hist(data_dup['conteo_palabras'])\n",
    "plt.show()"
   ]
  },
  {
   "cell_type": "markdown",
   "id": "7da30401",
   "metadata": {},
   "source": [
    "Como es posible observar, el contenido de la base consta de 3 columnas (titulo, fecha y cuento), que representan cada uno el nombre, contenido y fecha de publicación de un cuento del blog de Hernán Casciari. Asimismo, el set consta de 520 registros, es decir, 520 cuentos sin valores vacíos, donde cada columna es del tipo categórico evidentemente. Adicionalmente, se observa que la mayor cantidad de cuentos poseen alrededor de 1000 y 1500 palabras."
   ]
  },
  {
   "cell_type": "markdown",
   "id": "33c8ed75",
   "metadata": {},
   "source": [
    "### 2. Homogenización de textos\n",
    "\n",
    "Para cumplir con el objetivo de generar recomendaciones en esta sección debe preparar los posts para poder ser utilizados en su sistema de recomendación. Para ello, \"limpie\" y \"tokenize\" cada uno de los cuentos, describiendo detalladamente los pasos que realizo y si transformó o eliminó ciertas palabras. Para asistirlo en la tarea he creado listas de *stopwords* que están disponibles en la carpeta `data`. En su procedimiento ilustre la limpieza con el cuento 'La venganza del metegol'. (En su limpieza recuerde que el objetivo es generar recomendaciones a partir de la similitud de las palabras o temas de los cuentos)"
   ]
  },
  {
   "cell_type": "code",
   "execution_count": 8,
   "id": "52d0afe9",
   "metadata": {},
   "outputs": [
    {
     "data": {
      "text/html": [
       "<div>\n",
       "<style scoped>\n",
       "    .dataframe tbody tr th:only-of-type {\n",
       "        vertical-align: middle;\n",
       "    }\n",
       "\n",
       "    .dataframe tbody tr th {\n",
       "        vertical-align: top;\n",
       "    }\n",
       "\n",
       "    .dataframe thead th {\n",
       "        text-align: right;\n",
       "    }\n",
       "</style>\n",
       "<table border=\"1\" class=\"dataframe\">\n",
       "  <thead>\n",
       "    <tr style=\"text-align: right;\">\n",
       "      <th></th>\n",
       "      <th>0</th>\n",
       "    </tr>\n",
       "  </thead>\n",
       "  <tbody>\n",
       "    <tr>\n",
       "      <th>0</th>\n",
       "      <td>ahora</td>\n",
       "    </tr>\n",
       "    <tr>\n",
       "      <th>1</th>\n",
       "      <td>alejandro</td>\n",
       "    </tr>\n",
       "    <tr>\n",
       "      <th>2</th>\n",
       "      <td>alex</td>\n",
       "    </tr>\n",
       "    <tr>\n",
       "      <th>3</th>\n",
       "      <td>alfonso</td>\n",
       "    </tr>\n",
       "    <tr>\n",
       "      <th>4</th>\n",
       "      <td>alguien</td>\n",
       "    </tr>\n",
       "  </tbody>\n",
       "</table>\n",
       "</div>"
      ],
      "text/plain": [
       "           0\n",
       "0      ahora\n",
       "1  alejandro\n",
       "2       alex\n",
       "3    alfonso\n",
       "4    alguien"
      ]
     },
     "execution_count": 8,
     "metadata": {},
     "output_type": "execute_result"
    }
   ],
   "source": [
    "stop1 = pd.read_csv('data\\stopwords_taller.csv',header=None)\n",
    "stop1.head()"
   ]
  },
  {
   "cell_type": "code",
   "execution_count": 9,
   "id": "4276365f",
   "metadata": {},
   "outputs": [
    {
     "data": {
      "text/html": [
       "<div>\n",
       "<style scoped>\n",
       "    .dataframe tbody tr th:only-of-type {\n",
       "        vertical-align: middle;\n",
       "    }\n",
       "\n",
       "    .dataframe tbody tr th {\n",
       "        vertical-align: top;\n",
       "    }\n",
       "\n",
       "    .dataframe thead th {\n",
       "        text-align: right;\n",
       "    }\n",
       "</style>\n",
       "<table border=\"1\" class=\"dataframe\">\n",
       "  <thead>\n",
       "    <tr style=\"text-align: right;\">\n",
       "      <th></th>\n",
       "      <th>0</th>\n",
       "    </tr>\n",
       "  </thead>\n",
       "  <tbody>\n",
       "    <tr>\n",
       "      <th>0</th>\n",
       "      <td>de</td>\n",
       "    </tr>\n",
       "    <tr>\n",
       "      <th>1</th>\n",
       "      <td>la</td>\n",
       "    </tr>\n",
       "    <tr>\n",
       "      <th>2</th>\n",
       "      <td>que</td>\n",
       "    </tr>\n",
       "    <tr>\n",
       "      <th>3</th>\n",
       "      <td>el</td>\n",
       "    </tr>\n",
       "    <tr>\n",
       "      <th>4</th>\n",
       "      <td>en</td>\n",
       "    </tr>\n",
       "  </tbody>\n",
       "</table>\n",
       "</div>"
      ],
      "text/plain": [
       "     0\n",
       "0   de\n",
       "1   la\n",
       "2  que\n",
       "3   el\n",
       "4   en"
      ]
     },
     "execution_count": 9,
     "metadata": {},
     "output_type": "execute_result"
    }
   ],
   "source": [
    "stop2 = pd.read_csv('data\\extra_stopwords.csv',header=None)\n",
    "stop2.head()"
   ]
  },
  {
   "cell_type": "code",
   "execution_count": 10,
   "id": "5c93b467",
   "metadata": {},
   "outputs": [
    {
     "data": {
      "text/html": [
       "<div>\n",
       "<style scoped>\n",
       "    .dataframe tbody tr th:only-of-type {\n",
       "        vertical-align: middle;\n",
       "    }\n",
       "\n",
       "    .dataframe tbody tr th {\n",
       "        vertical-align: top;\n",
       "    }\n",
       "\n",
       "    .dataframe thead th {\n",
       "        text-align: right;\n",
       "    }\n",
       "</style>\n",
       "<table border=\"1\" class=\"dataframe\">\n",
       "  <thead>\n",
       "    <tr style=\"text-align: right;\">\n",
       "      <th></th>\n",
       "      <th>0</th>\n",
       "    </tr>\n",
       "  </thead>\n",
       "  <tbody>\n",
       "    <tr>\n",
       "      <th>0</th>\n",
       "      <td>ahora</td>\n",
       "    </tr>\n",
       "    <tr>\n",
       "      <th>1</th>\n",
       "      <td>alejandro</td>\n",
       "    </tr>\n",
       "    <tr>\n",
       "      <th>2</th>\n",
       "      <td>alex</td>\n",
       "    </tr>\n",
       "    <tr>\n",
       "      <th>3</th>\n",
       "      <td>alfonso</td>\n",
       "    </tr>\n",
       "    <tr>\n",
       "      <th>4</th>\n",
       "      <td>alguien</td>\n",
       "    </tr>\n",
       "  </tbody>\n",
       "</table>\n",
       "</div>"
      ],
      "text/plain": [
       "           0\n",
       "0      ahora\n",
       "1  alejandro\n",
       "2       alex\n",
       "3    alfonso\n",
       "4    alguien"
      ]
     },
     "execution_count": 10,
     "metadata": {},
     "output_type": "execute_result"
    }
   ],
   "source": [
    "stop = pd.concat([stop1, stop2], ignore_index=True)\n",
    "stop.head()"
   ]
  },
  {
   "cell_type": "markdown",
   "id": "1f48a1b2",
   "metadata": {},
   "source": [
    "### Eliminación de caracteres no deseados"
   ]
  },
  {
   "cell_type": "code",
   "execution_count": 11,
   "id": "6346b5b9",
   "metadata": {},
   "outputs": [],
   "source": [
    "# Eliminamos las tildes y caracteres especiales del idioma español\n",
    "data['cuento'] = data['cuento'].apply(lambda x: unidecode.unidecode(x))"
   ]
  },
  {
   "cell_type": "code",
   "execution_count": 12,
   "id": "4af57ea8",
   "metadata": {},
   "outputs": [],
   "source": [
    "# Eliminamos signos de puntuación y cualquier otro carácter no alfa numerico\n",
    "data['cuento'] = data['cuento'].apply(lambda x: re.sub('[^A-Za-z0-9 ]+', ' ', x))\n",
    "data['cuento'] = data['cuento'].apply(lambda x: re.sub('\\s+', ' ', x))"
   ]
  },
  {
   "cell_type": "code",
   "execution_count": 13,
   "id": "3816cb6f",
   "metadata": {},
   "outputs": [],
   "source": [
    "# Se eliminan numeros y mas espacios\n",
    "data['cuento'] = data['cuento'].apply(lambda x: re.sub(\"\\d+\", \"\", x))\n",
    "data['cuento'] = data['cuento'].apply(lambda x: re.sub('\\s+', ' ', x))\n",
    "data['cuento'] = data['cuento'].apply(lambda x: x.strip())"
   ]
  },
  {
   "cell_type": "code",
   "execution_count": 14,
   "id": "072a699b",
   "metadata": {},
   "outputs": [],
   "source": [
    "# Se eliminan saltos de pagina \\n\n",
    "data['cuento'] = data['cuento'].apply(lambda x: re.sub(\"[^\\\\w\\\\s]|\\n\", ' ', x))"
   ]
  },
  {
   "cell_type": "markdown",
   "id": "949f98ed",
   "metadata": {},
   "source": [
    "### Conversión a minúsculas "
   ]
  },
  {
   "cell_type": "code",
   "execution_count": 15,
   "id": "511fe0d5",
   "metadata": {},
   "outputs": [],
   "source": [
    "# Se pasan todas las palabras a minuscula\n",
    "data['cuento'] = data['cuento'].apply(lambda x: x.lower())"
   ]
  },
  {
   "cell_type": "markdown",
   "id": "0b7de684",
   "metadata": {},
   "source": [
    "### Eliminación de palabras vacías (stopwords)"
   ]
  },
  {
   "cell_type": "code",
   "execution_count": 16,
   "id": "883910a2",
   "metadata": {},
   "outputs": [],
   "source": [
    "# Función para eliminar las stopwords\n",
    "def del_stop(texto, stopwords):\n",
    "    return ' '.join([palabra for palabra in texto.split() if palabra not in stopwords])\n",
    "data['cuento'] = data['cuento'].apply(lambda x: del_stop(x, stop.iloc[:, 0].tolist()))"
   ]
  },
  {
   "cell_type": "markdown",
   "id": "d24f0722",
   "metadata": {},
   "source": [
    "### Tokenización"
   ]
  },
  {
   "cell_type": "code",
   "execution_count": 17,
   "id": "1ee86a41",
   "metadata": {},
   "outputs": [
    {
     "name": "stderr",
     "output_type": "stream",
     "text": [
      "C:\\Users\\Asus\\anaconda3\\lib\\site-packages\\torch\\__init__.py:747: UserWarning: torch.set_default_tensor_type() is deprecated as of PyTorch 2.1, please use torch.set_default_dtype() and torch.set_default_device() as alternatives. (Triggered internally at C:\\actions-runner\\_work\\pytorch\\pytorch\\builder\\windows\\pytorch\\torch\\csrc\\tensor\\python_tensor.cpp:433.)\n",
      "  _C._set_default_tensor_type(t)\n"
     ]
    }
   ],
   "source": [
    "# Cargar el modelo para el idioma deseado (por ejemplo, español)\n",
    "nlp = spacy.load(\"es_core_news_sm\")"
   ]
  },
  {
   "cell_type": "code",
   "execution_count": 18,
   "id": "e37dfb90",
   "metadata": {},
   "outputs": [],
   "source": [
    "data['doc'] = data['cuento'].apply(lambda x: nlp(x))"
   ]
  },
  {
   "cell_type": "code",
   "execution_count": 19,
   "id": "8bdfeb70",
   "metadata": {},
   "outputs": [
    {
     "name": "stdout",
     "output_type": "stream",
     "text": [
      "mes pasado invitaron presentar buenos aires futbol final charla director editorial invito jugar partido metegol invento espanol creadores llaman erroneamente futbolin hacia anos jugaba metegol suerte toco companero filosofo prestigioso pudimos ganar contrincantes autor director editorial ultimo conocia juventud jugamos partidos enteros destrozamos facilidad pasmosa hacia anos practicaba falso deporte munecas reflejos descubri habia perdido manas hizo sentir edad cualquier destreza mantengamos indemne mas pelotuda convierte gran noticia despues charla fotografos hicieron imagenes partido metegol subieron twitter estadio libreria gandhi buenos aires locales izquierda duchini gonzalo garces vistantes derecha tomas abraham resultado match match paliza volvi recibi mail amigo infancia decia habia visto fotos sorprendia companero filosofo admirabamos juventud jugando metegol tomas abraham pasar sueno decia verdad partido imagine diecisiete anos mirando ventana libreria gandhi escena futuro sonrei recuerdo momentaneo desconcentro juego justo hicieron gol unico recibi defendia zaga gol molinete gonzalo garces director editorial galerna injusticia festejo cara modo antideportivo tratara final vino cabeza conte muchas sobremesas amigos ocurrio conoci gonzalo eramos adolescentes seria ano noventa gustaba pasar veranos mercedes pueblo padres iban vacaciones dejaban sola amigo llegaba viernes madrugada pasaba despierto veia luz habitacion tocaba timbre emborrachabamos ahi veia luz entraba ventana cuarto oscuras despertaba maneras horribles tiraba agua cara pegaba patada panza metia gato cobijas subia arriba mantas empezaba bombearme atras amante desenfrenado objetivo despertarme manera creativa cierto fin paso conoci gonzalo garces promesa escritor diecisiete anos invite pasar fin mercedes gonzalo cachorro persona fina banado clase acomodada sereno hecho habia convertido ano dieciseis critico literario mas joven historia diario porteno nacion prodigio garces conocimos casualidad aquel ano integramos antologia jovenes promesas literarias habia publicado veinte autores adolescentes lei cuento unico gusto llame telefono invite charlar mercedes fin lleve carnaval pueblo carnavales luminosos mas tristes provincia buenos aires pasamos dia accidente nocturno gonzalo garces quedo dormir ofreci habitacion dormir borrachera cama padres recordar rutina madrugadas gonzalo chico buen mozo fragil acosto apago luz ciudad desconocida llanura pampeana quedo dormido saber borracho joven entraria oscuras ventana subiria encima sodomizarlo escuche grito habitacion padres quedaba lejos entere manana siguiente encontre gonzalo cocina desayunaba pelos alborotados ayer entro tipo ventana quiso fornicar adentro sabanas saque cabeza asustado tipo mira sos deja fornicar levanta cama pide disculpas escapa ventana iba ciclomotor marca zanella aparecio mas mire taza cafe tenia gonzalo mano temblaba pusiera llorar tranquilice carnaval epocas vale gonzalo susto garces enorme crei habia olvidado aquello epoca preocupe mas susto amigo duro anos traumatico creer violando chiste amigo repente violando chiste promesa literaria menor edad horrible imagen facil subconsciente pobre paso anos peor gonzalo garces empezo crecer hispanoamericano letras convirtio gran escritor critico implacable director editorial prestigiosa trauma crecio par consagracion garces anos gonzalo gano premio seix barral sintio mucha verguenza violado oscuridad habia conseguido galardon vargas llosa creo gol grito gonzalo garces cara metegol mirada maradoniana vengativa jamas habia visto mirando camara manera decirme todavia acuerda sigue roto alma gustaron carnavales pueblo noviembre\n"
     ]
    }
   ],
   "source": [
    "# Configurar pandas para mostrar texto completo en las celdas\n",
    "pd.set_option('display.max_colwidth', None)\n",
    "\n",
    "# Mostrar el contenido completo del cuento La venganza del metegol despues de las correciones\n",
    "print(data['cuento'][data['titulo'] == 'La venganza del metegol'].values[0])"
   ]
  },
  {
   "cell_type": "markdown",
   "id": "5fc31710",
   "metadata": {},
   "source": [
    "El procedimiento de limpieza consistió en la eliminación de caracteres no deseados, tales como acentuaciones, números, espacios, signos de puntación y otros caracteres especiales inherentes al idioma español. Posteriormente, se convierten todas las letras a minúscula para estandarizar las palabras. El siguiente paso consiste en eliminar las stop words dadas por el material de este proyecto. Finalmente se tokenizan todos los cuentos dentro del dataset de interés."
   ]
  },
  {
   "cell_type": "markdown",
   "id": "2dcf7c5a",
   "metadata": {},
   "source": [
    "### 3. Generando Recomendaciones\n",
    "\n",
    "En esta sección nos interesa generar recomendaciones de cuentos en el blog a un usuario que leyó 'La venganza del metegol'. Para ello vamos a utilizar distintas estrategias."
   ]
  },
  {
   "cell_type": "markdown",
   "id": "924029d9",
   "metadata": {},
   "source": [
    "#### 3.1. Recomendaciones basadas en contenidos\n",
    "\n",
    "##### 3.1.1. Genere 5 recomendaciones de más recomendada (1) a menos recomendada (5) para el cuento 'La venganza del metegol' usando en la distancia de coseno donde el texto este vectorizado por `CountVectorizer`. Explique el procedimiento que realizó y como ordenó las recomendaciones."
   ]
  },
  {
   "cell_type": "code",
   "execution_count": 20,
   "id": "89d7a642",
   "metadata": {},
   "outputs": [],
   "source": [
    "def recomendador(title, df=data,cantidad=5,metric='cos',method='count'):\n",
    "    if method == 'count':\n",
    "        # Definimos el objeto CountVectorizer\n",
    "        count = CountVectorizer()\n",
    "        # construimos la matriz CountVectorizer\n",
    "        matrix = count.fit_transform(df['cuento'])\n",
    "    elif method == 'tfidf':\n",
    "        # Creamos una lista con todos los cuentos\n",
    "        lista = list(df['cuento'])\n",
    "        # Unimos las tokens\n",
    "        oraciones = [\"\".join(i) for i in lista]\n",
    "        #Definimos el objeto TF-IDF Vectorizer Object\n",
    "        tfidf = TfidfVectorizer()\n",
    "        #Construimos la matriz TF-IDF\n",
    "        matrix = tfidf.fit_transform(oraciones)\n",
    "        matrix_corr = matrix.toarray()\n",
    "        # Convertir la matriz dispersa a un DataFrame con el el vocabulario (palabras) que el TfidfVectorizer está utilizando\n",
    "        df_tfidf = pd.DataFrame(matrix.toarray(), columns=tfidf.get_feature_names())\n",
    "        \n",
    "    # Se reincia el indice para que sea un indice cosnecutivo nuevo\n",
    "    df = df.reset_index()\n",
    "    # Se definen como los nuevos indices los titutlos de los cuentos y se transforma el dataframe en una serie\n",
    "    indices = pd.Series(df.index, index=df['titulo']).drop_duplicates()\n",
    "    # Se obtiene el indice del cuento especifico que ingresa por parametro\n",
    "    idx = indices[title]\n",
    "    \n",
    "    if metric == 'cos':\n",
    "        # Calculamos el producto punto de la matriz especificada\n",
    "        cosine_sim = linear_kernel(matrix,matrix)\n",
    "        # se crea una lista con los puntajes de similitud del coseno con respecto al cuento de interes\n",
    "        sim_scores = list(enumerate(cosine_sim[idx]))\n",
    "    elif metric == 'corr':\n",
    "        # Calculamos la correlación entre las filas de la matriz\n",
    "        correlation_matrix = np.corrcoef(matrix_corr)\n",
    "        # se crea una lista con los puntajes de correlación de pearson con respecto al cuento de interes\n",
    "        sim_scores = list(enumerate(correlation_matrix[idx]))\n",
    "         \n",
    "    \n",
    "    # Se ordena la lista de puntajes de mayor a menor y se excluye el cuento de interes\n",
    "    sim_scores = sorted(sim_scores, key=lambda x: x[1], reverse=True)\n",
    "    # Se dejan en la lista solo la cantidad especificada por parametro que por default es 5\n",
    "    sim_scores = sim_scores[1:cantidad+1]\n",
    "    # Se extraen los indices de los cuentos recomendados\n",
    "    movie_indices = [i[0] for i in sim_scores]\n",
    "\n",
    "    # Se retornan los cuentos recomendados a traves de sus indices\n",
    "    return df['titulo'].iloc[movie_indices]"
   ]
  },
  {
   "cell_type": "code",
   "execution_count": 21,
   "id": "c4219938",
   "metadata": {},
   "outputs": [
    {
     "data": {
      "text/plain": [
       "6         Ropa sucia\n",
       "111          Basdala\n",
       "117    10.6 segundos\n",
       "121    Gaussian blur\n",
       "118        Papelitos\n",
       "Name: titulo, dtype: object"
      ]
     },
     "execution_count": 21,
     "metadata": {},
     "output_type": "execute_result"
    }
   ],
   "source": [
    "recomendador('La venganza del metegol',method='count')"
   ]
  },
  {
   "cell_type": "markdown",
   "id": "373a5217",
   "metadata": {},
   "source": [
    "El proceso consiste en la creación de un función que permite aplicar el CountVectorizer y el TF-IDF Vectorizer. Para el CountVectorizer, primero se define el objeto CountVcetorizer, se resetean los indices para que se creen indices consecutivos y se crea una serie con los indices como los titulos de los cuentos, posteriormente se captura el indice del cuento de interes. Se calcula la similitud del coseno, y se obtienen estos valores para el cuento de interes. Posteriormente y muy importante se ordenan de mayor a menor los valores de la similitu del coseno y se excuye el valor de la similitud del cuento en si mismo, esto garantiza que se van a obtener de primero los valores mas altos (y por ende de mayor afinidad con el cuento de interes) Finalmente, se capturan los nombres de los cuentos y se devuelven."
   ]
  },
  {
   "cell_type": "markdown",
   "id": "a54bf308",
   "metadata": {},
   "source": [
    "##### 3.1.2. Genere 5 recomendaciones de más recomendada (1) a menos recomendada (5) para  el cuento 'La venganza del metegol' usando nuevamente la distancia de coseno, pero ahora vectorice el texto usando `TF-IDFVectorizer`. Explique el procedimiento que realizó y como ordenó las recomendaciones. Compare con los resultados del punto anterior y explique sus similitudes y/o diferencias."
   ]
  },
  {
   "cell_type": "code",
   "execution_count": 22,
   "id": "25f8a5f7",
   "metadata": {},
   "outputs": [
    {
     "data": {
      "text/plain": [
       "138    Nueve libros que me hicieron olvidar el Mundial\n",
       "17                       Cuento con bruja y tramontina\n",
       "121                                      Gaussian blur\n",
       "12                           Abrir y cerrar un círculo\n",
       "519                   La madre de todas las desgracias\n",
       "Name: titulo, dtype: object"
      ]
     },
     "execution_count": 22,
     "metadata": {},
     "output_type": "execute_result"
    }
   ],
   "source": [
    "recomendador('La venganza del metegol',method='tfidf')"
   ]
  },
  {
   "cell_type": "markdown",
   "id": "7cbac389",
   "metadata": {},
   "source": [
    "El procedimiento es exactmanente igual al realizado por medio del CountVectorizer, sin embargo, en este caso, se crea el objeto TF-IDF y se calcula la similitud del coseno por medio de los valores generados por la matriz generada a partir de este objeto.Posteriormente, el procedimiento es igual al realizado por medio del CountVectorizer, es decir, se retornan los valores ordenados de la similitud del coseno (filtrando el cuento de interes) y se devulven al usuario.\n",
    "Como es posible observar, las recomendaciones son muy diferentes a cuando se implementa el CountVectorizer, esto debido a que el TF-IDF da un myor peso a palabras poco comunes dentro de todos los textos, solo se comparte un unico libro entre los resultados obtenidos."
   ]
  },
  {
   "cell_type": "markdown",
   "id": "a74de67b",
   "metadata": {},
   "source": [
    "##### 3.1.3. Genere 5 recomendaciones de más recomendada (1) a menos recomendada (5) para el cuento 'La venganza del metegol' usando el texto vectorizado por `TF-IDFVectorizer` y la correlación como medida de similitud. Explique el procedimiento que realizó y como ordenó las recomendaciones. Compare con los resultados de los puntos anteriores y explique sus similitudes y/o diferencias."
   ]
  },
  {
   "cell_type": "code",
   "execution_count": 23,
   "id": "bd89a6cf",
   "metadata": {},
   "outputs": [
    {
     "data": {
      "text/plain": [
       "138    Nueve libros que me hicieron olvidar el Mundial\n",
       "17                       Cuento con bruja y tramontina\n",
       "121                                      Gaussian blur\n",
       "12                           Abrir y cerrar un círculo\n",
       "519                   La madre de todas las desgracias\n",
       "Name: titulo, dtype: object"
      ]
     },
     "execution_count": 23,
     "metadata": {},
     "output_type": "execute_result"
    }
   ],
   "source": [
    "# Utilice este espacio para escribir el código.\n",
    "recomendador('La venganza del metegol',method='tfidf',metric='corr')"
   ]
  },
  {
   "cell_type": "markdown",
   "id": "8a308a33",
   "metadata": {},
   "source": [
    "Para el procedimiento realizado en este literal se usa la correlacion de pearson como medida de similitud en vez de la similitud del coseno, en el procedimiento simplemente se aplica la matriz de correlación a los valores obtenidos de la matriz TF-IDF y de esta forma se obtienen los valores de correlación, se ordenan según el mayor valor y se retornan. Como se puede observar en este caso se obtuvieron exactamente los mismos resultados obtenidos que usando la metrica de similitud del coseno."
   ]
  },
  {
   "cell_type": "markdown",
   "id": "46b5a2a4",
   "metadata": {},
   "source": [
    "##### 3.2. Recomendaciones basadas en temas\n",
    "\n",
    "Usando modelado de temas con LDA, encuentre los temas subyacentes en el blog. Explique como eligió el numero óptimo de temas. Utilizando el tema asignado al cuento 'La venganza del metegol' y la probabilidad de pertenecer a este tema genere 5 recomendaciones de más recomendada (1) a menos recomendada (5) para este cuento. Explique el procedimiento que realizó. Compare con los resultados encontrados anteriormente y explique sus similitudes y/o diferencias. (Esto puede tomar mucho tiempo y requerir mucha capacidad computacional, puede aprovechar los recursos de [Google Colab](https://colab.research.google.com/))\n"
   ]
  },
  {
   "cell_type": "code",
   "execution_count": 24,
   "id": "8826d269",
   "metadata": {},
   "outputs": [],
   "source": [
    "palabras = [(data['cuento'].str.split().explode().tolist())]"
   ]
  },
  {
   "cell_type": "code",
   "execution_count": 25,
   "id": "965fe42d",
   "metadata": {},
   "outputs": [
    {
     "data": {
      "text/plain": [
       "<gensim.corpora.dictionary.Dictionary at 0x240c1735d30>"
      ]
     },
     "execution_count": 25,
     "metadata": {},
     "output_type": "execute_result"
    }
   ],
   "source": [
    "# Creamos la representación de diccionario del documento\n",
    "dictionary = Dictionary(palabras)\n",
    "dictionary"
   ]
  },
  {
   "cell_type": "code",
   "execution_count": 26,
   "id": "feaf4b83",
   "metadata": {},
   "outputs": [],
   "source": [
    "corpus = [dictionary.doc2bow(doc) for doc in palabras]"
   ]
  },
  {
   "cell_type": "code",
   "execution_count": 27,
   "id": "72d33e41",
   "metadata": {},
   "outputs": [],
   "source": [
    "Estimacion = LdaModel(\n",
    "    corpus=corpus,\n",
    "    id2word=dictionary,\n",
    "    num_topics=3,\n",
    "    chunksize=1000,\n",
    "    passes=20,\n",
    "    iterations=400,\n",
    "    alpha='auto',\n",
    "    eta='auto',\n",
    "    random_state=123,\n",
    "    eval_every=None\n",
    ")"
   ]
  },
  {
   "cell_type": "code",
   "execution_count": 28,
   "id": "ba78ba2a",
   "metadata": {},
   "outputs": [
    {
     "name": "stdout",
     "output_type": "stream",
     "text": [
      "[(0,\n",
      "  '0.000*\"mas\" + 0.000*\"anos\" + 0.000*\"habia\" + 0.000*\"despues\" + '\n",
      "  '0.000*\"tambien\" + 0.000*\"dia\" + 0.000*\"tenia\" + 0.000*\"caio\" + '\n",
      "  '0.000*\"cabeza\" + 0.000*\"zacarias\"'),\n",
      " (1,\n",
      "  '0.012*\"mas\" + 0.005*\"anos\" + 0.005*\"habia\" + 0.004*\"tambien\" + '\n",
      "  '0.004*\"despues\" + 0.003*\"dia\" + 0.002*\"zacarias\" + 0.002*\"tenia\" + '\n",
      "  '0.002*\"cabeza\" + 0.002*\"caio\"'),\n",
      " (2,\n",
      "  '0.000*\"mas\" + 0.000*\"habia\" + 0.000*\"anos\" + 0.000*\"tambien\" + 0.000*\"dia\" '\n",
      "  '+ 0.000*\"despues\" + 0.000*\"zacarias\" + 0.000*\"caio\" + 0.000*\"hijo\" + '\n",
      "  '0.000*\"mujer\"')]\n"
     ]
    }
   ],
   "source": [
    "pprint(Estimacion.print_topics())"
   ]
  },
  {
   "cell_type": "code",
   "execution_count": 35,
   "id": "1ac34414",
   "metadata": {},
   "outputs": [],
   "source": [
    "def calcular_coherencia(dictionary, corpus, texts, start=1, limit=10, step=1):\n",
    " \n",
    "    coherence_values = []\n",
    "    model_list = []\n",
    "    \n",
    "    for num_topics in range(start, limit, step):\n",
    "        model = LdaMulticore(corpus=corpus,\n",
    "                        id2word=dictionary,\n",
    "                        num_topics=num_topics, \n",
    "                        random_state=123,\n",
    "                        passes=20)\n",
    "        model_list.append(model)\n",
    "        coherencemodel = CoherenceModel(model=model, texts=texts, dictionary=dictionary, coherence='c_v')\n",
    "        coherence_values.append(coherencemodel.get_coherence())\n",
    "\n",
    "    return model_list, coherence_values"
   ]
  },
  {
   "cell_type": "code",
   "execution_count": null,
   "id": "9a1ae1a2",
   "metadata": {},
   "outputs": [],
   "source": [
    "limit=10; start=1; step=1;\n",
    "x = range(start, limit, step)\n",
    "plt.plot(x, valores_c)\n",
    "plt.xlabel(\"Número de Temas\")\n",
    "plt.ylabel(\"Medida de Coherencia\")\n",
    "plt.show()"
   ]
  },
  {
   "cell_type": "code",
   "execution_count": 43,
   "id": "cdcfc75c",
   "metadata": {},
   "outputs": [],
   "source": [
    "# Cargar el modelo en español\n",
    "nlp = spacy.load('es_core_news_sm')\n",
    "\n",
    "# Función para preprocesar texto\n",
    "def preprocess(text):\n",
    "    doc = nlp(text)\n",
    "    tokens = [token.lemma_ for token in doc if not token.is_stop and not token.is_punct]\n",
    "    return ' '.join(tokens)\n",
    "\n",
    "# Aplicar preprocesamiento a los textos\n",
    "data['preprocessed_text'] = data['cuento'].apply(preprocess)"
   ]
  },
  {
   "cell_type": "code",
   "execution_count": 44,
   "id": "4f1c4e85",
   "metadata": {},
   "outputs": [],
   "source": [
    "# Crear una matriz de frecuencia de palabras usando CountVectorizer\n",
    "vectorizer = CountVectorizer()\n",
    "doc_term_matrix = vectorizer.fit_transform(data['preprocessed_text'])\n",
    "\n",
    "# Ajustar el modelo LDA\n",
    "lda = LatentDirichletAllocation(n_components=5, random_state=42)  # Usa perplejidad y coherencia para ajustar el número de temas\n",
    "lda.fit(doc_term_matrix)\n",
    "\n",
    "# Obtener los temas\n",
    "topics = lda.transform(doc_term_matrix)"
   ]
  },
  {
   "cell_type": "markdown",
   "id": "dad90379",
   "metadata": {},
   "source": [
    "### 4 Recomendaciones generales\n",
    "\n",
    "De acuerdo con los resultados encontrados, en su opinión ¿qué procedimiento generó las mejores recomendaciones para la entrada elegida? ¿Cómo implementaría una evaluación objetiva de estas recomendaciones? Justifique su respuesta."
   ]
  }
 ],
 "metadata": {
  "kernelspec": {
   "display_name": "Python 3",
   "language": "python",
   "name": "python3"
  },
  "language_info": {
   "codemirror_mode": {
    "name": "ipython",
    "version": 3
   },
   "file_extension": ".py",
   "mimetype": "text/x-python",
   "name": "python",
   "nbconvert_exporter": "python",
   "pygments_lexer": "ipython3",
   "version": "3.8.8"
  },
  "toc": {
   "base_numbering": 1,
   "nav_menu": {},
   "number_sections": true,
   "sideBar": true,
   "skip_h1_title": false,
   "title_cell": "Table of Contents",
   "title_sidebar": "Contents",
   "toc_cell": false,
   "toc_position": {},
   "toc_section_display": true,
   "toc_window_display": false
  }
 },
 "nbformat": 4,
 "nbformat_minor": 5
}
