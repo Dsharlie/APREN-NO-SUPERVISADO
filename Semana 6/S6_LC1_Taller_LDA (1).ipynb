{
 "cells": [
  {
   "cell_type": "markdown",
   "metadata": {},
   "source": [
    "<div >\n",
    "<img src = \"figs/ans_banner_1920x200.png\" />\n",
    "</div>"
   ]
  },
  {
   "cell_type": "markdown",
   "metadata": {},
   "source": [
    "# Caso-taller:  Recomendando el Blog de  Hernán Casciari \n",
    "\n",
    "\n",
    "[Hernán Casciari](https://hernancasciari.com/#bio), es un escritor argentino, que escribe blog posts con cuentos e historias  relacionadas con el futbol, su vida, infancia, y relaciones familiares con toques de ficción. Este [blog](https://hernancasciari.com/blog/) es  tan interesantes que en 2005 fue premiado como “El mejor blog del mundo” por Deutsche Welle de Alemania. \n",
    "\n",
    "El objetivo de este caso-taller es construir un sistema de recomendación basado en los contenidos de los posts utilizando similitud de las palabras usadas o temas de los cuentos."
   ]
  },
  {
   "cell_type": "markdown",
   "metadata": {},
   "source": [
    "## Instrucciones generales\n",
    "\n",
    "1. Para desarrollar el *cuaderno* primero debe descargarlo.\n",
    "\n",
    "2. Para responder cada inciso deberá utilizar el espacio debidamente especificado.\n",
    "\n",
    "3. La actividad será calificada sólo si sube el *cuaderno* de jupyter notebook con extensión `.ipynb` en la actividad designada como \"Revisión por el compañero.\"\n",
    "\n",
    "4. El archivo entregado debe poder ser ejecutado localmente por los pares. Sea cuidadoso con la especificación de la ubicación de los archivos de soporte, guarde la carpeta de datos  en la misma ruta de acceso del cuaderno, por ejemplo: `data`."
   ]
  },
  {
   "cell_type": "markdown",
   "metadata": {},
   "source": [
    "## Desarrollo\n"
   ]
  },
  {
   "cell_type": "markdown",
   "metadata": {},
   "source": [
    "### 1. Carga de datos \n",
    "\n",
    "En la carpeta `data` se encuentran el archivo `blog_casciari.csv` con el título, la fecha de publicación, y el contenido de los cuentos publicados en el blog  de sr. Casciari. Cargue estos datos en su *cuaderno* y reporte brevemente el contenido de la base.\n",
    "   "
   ]
  },
  {
   "cell_type": "code",
   "execution_count": 1,
   "metadata": {
    "scrolled": true
   },
   "outputs": [
    {
     "data": {
      "text/html": [
       "<div>\n",
       "<style scoped>\n",
       "    .dataframe tbody tr th:only-of-type {\n",
       "        vertical-align: middle;\n",
       "    }\n",
       "\n",
       "    .dataframe tbody tr th {\n",
       "        vertical-align: top;\n",
       "    }\n",
       "\n",
       "    .dataframe thead th {\n",
       "        text-align: right;\n",
       "    }\n",
       "</style>\n",
       "<table border=\"1\" class=\"dataframe\">\n",
       "  <thead>\n",
       "    <tr style=\"text-align: right;\">\n",
       "      <th></th>\n",
       "      <th>titulo</th>\n",
       "      <th>fecha</th>\n",
       "      <th>cuento</th>\n",
       "    </tr>\n",
       "  </thead>\n",
       "  <tbody>\n",
       "    <tr>\n",
       "      <th>0</th>\n",
       "      <td>El rincón blanco</td>\n",
       "      <td>1/11/08</td>\n",
       "      <td>De pronto yo estaba en el hogar donde pasé la ...</td>\n",
       "    </tr>\n",
       "    <tr>\n",
       "      <th>1</th>\n",
       "      <td>Mínimos avances en la cama</td>\n",
       "      <td>1/24/08</td>\n",
       "      <td>Menos la cama, todo ha mejorado en este mundo....</td>\n",
       "    </tr>\n",
       "    <tr>\n",
       "      <th>2</th>\n",
       "      <td>Don Marcos</td>\n",
       "      <td>2/19/08</td>\n",
       "      <td>Dos veces, y no una, mi abuelo materno me ayud...</td>\n",
       "    </tr>\n",
       "    <tr>\n",
       "      <th>3</th>\n",
       "      <td>Los dos rulfos</td>\n",
       "      <td>3/26/08</td>\n",
       "      <td>A su regreso de México, mi amigo Comequechu no...</td>\n",
       "    </tr>\n",
       "    <tr>\n",
       "      <th>4</th>\n",
       "      <td>La noticia no es el perro</td>\n",
       "      <td>4/15/08</td>\n",
       "      <td>De repente, un video de You Tube recibe un mil...</td>\n",
       "    </tr>\n",
       "    <tr>\n",
       "      <th>...</th>\n",
       "      <td>...</td>\n",
       "      <td>...</td>\n",
       "      <td>...</td>\n",
       "    </tr>\n",
       "    <tr>\n",
       "      <th>515</th>\n",
       "      <td>Instrucciones para la masturbación del hijo</td>\n",
       "      <td>8/18/07</td>\n",
       "      <td>Si lees estas líneas es porque hoy cumples tre...</td>\n",
       "    </tr>\n",
       "    <tr>\n",
       "      <th>516</th>\n",
       "      <td>El colmo de un campesino</td>\n",
       "      <td>9/24/07</td>\n",
       "      <td>Hace algunos días Natalia Méndez, una editora ...</td>\n",
       "    </tr>\n",
       "    <tr>\n",
       "      <th>517</th>\n",
       "      <td>La decadencia del Hombre Corbata</td>\n",
       "      <td>10/16/07</td>\n",
       "      <td>El actual Hombre Corbata es el último eslabón ...</td>\n",
       "    </tr>\n",
       "    <tr>\n",
       "      <th>518</th>\n",
       "      <td>El sentido del olfato en los trenes</td>\n",
       "      <td>10/26/07</td>\n",
       "      <td>Mi nombre no importa; no voy a presentarme. Lo...</td>\n",
       "    </tr>\n",
       "    <tr>\n",
       "      <th>519</th>\n",
       "      <td>La madre de todas las desgracias</td>\n",
       "      <td>12/13/07</td>\n",
       "      <td>Los que vivimos tan lejos, con un Atlántico en...</td>\n",
       "    </tr>\n",
       "  </tbody>\n",
       "</table>\n",
       "<p>520 rows × 3 columns</p>\n",
       "</div>"
      ],
      "text/plain": [
       "                                          titulo     fecha  \\\n",
       "0                               El rincón blanco   1/11/08   \n",
       "1                     Mínimos avances en la cama   1/24/08   \n",
       "2                                     Don Marcos   2/19/08   \n",
       "3                                 Los dos rulfos   3/26/08   \n",
       "4                      La noticia no es el perro   4/15/08   \n",
       "..                                           ...       ...   \n",
       "515  Instrucciones para la masturbación del hijo   8/18/07   \n",
       "516                     El colmo de un campesino   9/24/07   \n",
       "517             La decadencia del Hombre Corbata  10/16/07   \n",
       "518          El sentido del olfato en los trenes  10/26/07   \n",
       "519             La madre de todas las desgracias  12/13/07   \n",
       "\n",
       "                                                cuento  \n",
       "0    De pronto yo estaba en el hogar donde pasé la ...  \n",
       "1    Menos la cama, todo ha mejorado en este mundo....  \n",
       "2    Dos veces, y no una, mi abuelo materno me ayud...  \n",
       "3    A su regreso de México, mi amigo Comequechu no...  \n",
       "4    De repente, un video de You Tube recibe un mil...  \n",
       "..                                                 ...  \n",
       "515  Si lees estas líneas es porque hoy cumples tre...  \n",
       "516  Hace algunos días Natalia Méndez, una editora ...  \n",
       "517  El actual Hombre Corbata es el último eslabón ...  \n",
       "518  Mi nombre no importa; no voy a presentarme. Lo...  \n",
       "519  Los que vivimos tan lejos, con un Atlántico en...  \n",
       "\n",
       "[520 rows x 3 columns]"
      ]
     },
     "execution_count": 1,
     "metadata": {},
     "output_type": "execute_result"
    }
   ],
   "source": [
    "# Utilice este espacio para escribir el código.\n",
    "\n",
    "import pandas as pd\n",
    "\n",
    "casciari = pd.read_csv('data/blog_casciari.csv')\n",
    "casciari"
   ]
  },
  {
   "cell_type": "code",
   "execution_count": 2,
   "metadata": {},
   "outputs": [],
   "source": [
    "casciari['fecha'] = pd.to_datetime(casciari['fecha'])"
   ]
  },
  {
   "cell_type": "code",
   "execution_count": 3,
   "metadata": {},
   "outputs": [
    {
     "data": {
      "text/html": [
       "<div>\n",
       "<style scoped>\n",
       "    .dataframe tbody tr th:only-of-type {\n",
       "        vertical-align: middle;\n",
       "    }\n",
       "\n",
       "    .dataframe tbody tr th {\n",
       "        vertical-align: top;\n",
       "    }\n",
       "\n",
       "    .dataframe thead th {\n",
       "        text-align: right;\n",
       "    }\n",
       "</style>\n",
       "<table border=\"1\" class=\"dataframe\">\n",
       "  <thead>\n",
       "    <tr style=\"text-align: right;\">\n",
       "      <th></th>\n",
       "      <th>titulo</th>\n",
       "      <th>fecha</th>\n",
       "      <th>cuento</th>\n",
       "    </tr>\n",
       "  </thead>\n",
       "  <tbody>\n",
       "    <tr>\n",
       "      <th>count</th>\n",
       "      <td>520</td>\n",
       "      <td>520</td>\n",
       "      <td>520</td>\n",
       "    </tr>\n",
       "    <tr>\n",
       "      <th>unique</th>\n",
       "      <td>520</td>\n",
       "      <td>499</td>\n",
       "      <td>520</td>\n",
       "    </tr>\n",
       "    <tr>\n",
       "      <th>top</th>\n",
       "      <td>El rincón blanco</td>\n",
       "      <td>2003-10-01 00:00:00</td>\n",
       "      <td>De pronto yo estaba en el hogar donde pasé la ...</td>\n",
       "    </tr>\n",
       "    <tr>\n",
       "      <th>freq</th>\n",
       "      <td>1</td>\n",
       "      <td>3</td>\n",
       "      <td>1</td>\n",
       "    </tr>\n",
       "    <tr>\n",
       "      <th>first</th>\n",
       "      <td>NaN</td>\n",
       "      <td>2003-09-20 00:00:00</td>\n",
       "      <td>NaN</td>\n",
       "    </tr>\n",
       "    <tr>\n",
       "      <th>last</th>\n",
       "      <td>NaN</td>\n",
       "      <td>2015-11-17 00:00:00</td>\n",
       "      <td>NaN</td>\n",
       "    </tr>\n",
       "  </tbody>\n",
       "</table>\n",
       "</div>"
      ],
      "text/plain": [
       "                  titulo                fecha  \\\n",
       "count                520                  520   \n",
       "unique               520                  499   \n",
       "top     El rincón blanco  2003-10-01 00:00:00   \n",
       "freq                   1                    3   \n",
       "first                NaN  2003-09-20 00:00:00   \n",
       "last                 NaN  2015-11-17 00:00:00   \n",
       "\n",
       "                                                   cuento  \n",
       "count                                                 520  \n",
       "unique                                                520  \n",
       "top     De pronto yo estaba en el hogar donde pasé la ...  \n",
       "freq                                                    1  \n",
       "first                                                 NaN  \n",
       "last                                                  NaN  "
      ]
     },
     "execution_count": 3,
     "metadata": {},
     "output_type": "execute_result"
    }
   ],
   "source": [
    "casciari.describe()"
   ]
  },
  {
   "cell_type": "markdown",
   "metadata": {},
   "source": [
    "(Utilice este espacio para describir el procedimiento, análisis, y conclusiones)\n",
    "\n",
    "**Procedimiento:**\n",
    "1. Cargar la libreria de pandas\n",
    "2. Cargar los datos de los blog de Casciari en un dataframe utilizando la función pd.read_csv}\n",
    "\n",
    "**Análisis:**\n",
    "La base esta compuesta de tres columnas: título del blog, fecha de publicación y contenido del blog, y 520 entradas de bloog. Los blogs contenidos en la base fueron publicados entre Septiembre 2003 y Noviembre 2015, siendo Occtubre 2003 el mes con la mayor cantidad de blogs publicados. "
   ]
  },
  {
   "cell_type": "markdown",
   "metadata": {},
   "source": [
    "### 2. Homogenización de textos\n",
    "\n",
    "Para cumplir con el objetivo de generar recomendaciones en esta sección debe preparar los posts para poder ser utilizados en su sistema de recomendación. Para ello, \"limpie\" y \"tokenize\" cada uno de los cuentos, describiendo detalladamente los pasos que realizo y si transformó o eliminó ciertas palabras. Para asistirlo en la tarea he creado listas de *stopwords* que están disponibles en la carpeta `data`. En su procedimiento ilustre la limpieza con el cuento 'La venganza del metegol'. (En su limpieza recuerde que el objetivo es generar recomendaciones a partir de la similitud de las palabras o temas de los cuentos)"
   ]
  },
  {
   "cell_type": "code",
   "execution_count": 4,
   "metadata": {
    "scrolled": true
   },
   "outputs": [
    {
     "data": {
      "text/plain": [
       "'El mes pasado me invitaron a presentar un libro en Buenos Aires. Y como era un libro sobre futbol, al final de la charla el director de la editorial nos invito a jugar un partido de metegol (ese invento espanol al que sus creadores llaman, erroneamente, futbolin). Hacia anos que no jugaba al metegol, pero por suerte me toco de companero un filosofo muy prestigioso y pudimos ganar. Nuestros contrincantes eran el autor del libro y el director de la editorial. De los tres, a este ultimo lo conocia desde la juventud.\\nJugamos dos partidos enteros y los destrozamos con una facilidad pasmosa: hacia anos que no practicaba este falso deporte de munecas y reflejos, pero descubri que no habia perdido las manas. Eso me hizo sentir bien: a mi edad cualquier destreza que mantengamos indemne, por mas pelotuda que sea, se convierte en una gran noticia.\\nDespues de la charla algunos fotografos hicieron imagenes del partido de metegol y las subieron a Twitter.\\n-- Estadio: Libreria Gandhi, Buenos Aires. Locales: A la izquierda, Alejandro Duchini y Gonzalo Garces. Vistantes: A la derecha, Tomas Abraham y Hernan Casciari. Resultado: 1o match: 1-4; 2o match 0-4. Paliza.\\nCuando volvi a casa recibi un mail de Chiri, mi mejor amigo desde la infancia. Me decia que habia visto las fotos y se sorprendia de que mi companero haya sido el mismo filosofo al que admirabamos en la juventud. <<Vos, jugando al metegol con Tomas Abraham; solamente puede pasar en un sueno>>, me decia. Y era verdad. En un momento, durante el partido, me imagine con diecisiete anos mirando por la ventana de la libreria Gandhi esa escena del futuro, y sonrei.\\nEse recuerdo momentaneo me desconcentro del juego y justo en ese momento me hicieron un gol (el unico que recibi esa noche; yo defendia la zaga). Fue un gol con molinete de Gonzalo Garces, el director de la editorial Galerna, y el, con injusticia, me lo festejo en la cara de un modo muy antideportivo, como si se tratara de la final del mundo.\\nEntonces me vino a la cabeza algo que ya conte muchas veces en sobremesas con amigos, y que ocurrio la noche en que lo conoci a Gonzalo, cuando los dos eramos adolescentes.\\nEn ese entonces (seria el ano noventa y uno) me gustaba mucho pasar los veranos en Mercedes, mi pueblo, porque mis padres se iban de vacaciones y me dejaban la casa sola. Mi amigo Chiri llegaba los viernes muy de madrugada, y pasaba por casa para ver si yo estaba despierto. Si veia luz en la habitacion me tocaba timbre y nos emborrachabamos por ahi. Si no veia luz, entraba por la ventana de mi cuarto a oscuras y me despertaba de maneras horribles: a veces me tiraba agua en la cara, o me pegaba una patada en la panza. O me metia un gato entre las cobijas. O se subia arriba de las mantas y empezaba a bombearme desde atras como un amante desenfrenado. El objetivo era despertarme siempre de una manera creativa.\\nPero cierto fin de semana paso que, por la tarde, conoci a Gonzalo Garces (que entonces era una promesa de escritor de diecisiete anos) y lo invite a pasar un fin de semana a Mercedes. Gonzalo ya era entonces el cachorro de lo que es hoy: una persona fina, siempre muy bien banado, de clase acomodada y sereno. De hecho, se habia convertido un ano antes, a los dieciseis, en el critico literario mas joven en la historia del diario porteno La Nacion. Un prodigio, Garces. Siempre lo fue.\\nNos conocimos por casualidad porque aquel ano integramos una antologia de <<jovenes promesas literarias>> de entonces, y se habia publicado un libro con veinte autores adolescentes. Yo lei su cuento y fue el unico que me gusto, entonces lo llame por telefono y lo invite a casa para charlar. Estuvo en Mercedes ese fin de semana. Lo lleve al carnaval del pueblo, que es uno de los carnavales menos luminosos y mas tristes de la provincia de Buenos Aires.\\nLa pasamos muy bien todo ese dia, hasta el accidente nocturno. Gonzalo Garces se quedo a dormir en casa y le ofreci mi habitacion. Yo me fui a dormir la borrachera a la cama de mis padres, sin recordar la rutina de Chiri por las madrugadas. Esa noche Gonzalo, un chico buen mozo y fragil, se acosto y apago la luz en una ciudad desconocida de la llanura pampeana, y se quedo dormido, sin saber que en medio de la noche un borracho joven entraria a oscuras por la ventana y se subiria encima suyo para sodomizarlo.\\nYo no escuche el grito, porque la habitacion de mis padres quedaba lejos. No me entere de nada. Pero a la manana siguiente encontre a Gonzalo en la cocina. Desayunaba con los pelos alborotados. Me dijo:\\n--?Ayer entro un tipo por la ventana y me quiso fornicar. Yo estaba adentro de las sabanas y cuando saque la cabeza, asustado, el tipo me mira y me dice <<Vos no sos el gordo>>, y me deja de fornicar. Se levanta de la cama, me pide disculpas y se escapa por la ventana. Iba en un ciclomotor de la marca Zanella. No aparecio nunca mas.\\nYo mire la taza de cafe que tenia Gonzalo en la mano: le temblaba. Antes de que se pusiera a llorar lo tranquilice:\\n-- Estamos en carnaval?--?le dije?--?. En estas epocas vale todo, Gonzalo.\\nEl susto de Garces fue enorme, y yo crei siempre que se habia olvidado de aquello. En esa epoca me preocupe mas por el susto de mi amigo Chiri, que duro muchos anos y fue traumatico. Creer que estas violando en chiste a un amigo gordo, de toda la vida, y ver de repente que estas violando en chiste a una promesa literaria menor de edad, es horrible. Esa imagen no se va muy facil del subconsciente. Pobre Chiri.\\nCon el paso de los anos fue peor, porque Gonzalo Garces empezo a crecer en el mundo hispanoamericano de las letras, se convirtio en un gran escritor, en un critico implacable, en el director de una editorial prestigiosa, y el trauma de Chiri crecio siempre a la par de la consagracion de Garces.\\nHace unos anos, cuando Gonzalo gano el Premio Seix Barral, Chiri sintio mucha verguenza por haber violado en la oscuridad a alguien que habia conseguido el mismo galardon que Vargas Llosa.\\nPero ahora creo que el gol que me grito Gonzalo Garces a la cara durante el metegol, con una mirada maradoniana y vengativa que jamas le habia visto antes, casi mirando a camara, fue una manera de decirme que todavia se acuerda, que algo sigue roto en su alma, que no le gustaron mucho los carnavales de mi pueblo.\\nHernan Casciari\\n17 noviembre, 2015'"
      ]
     },
     "execution_count": 4,
     "metadata": {},
     "output_type": "execute_result"
    }
   ],
   "source": [
    "# Cargar librerias necesarias\n",
    "import re\n",
    "import unidecode\n",
    "\n",
    "# Eliminar tildes de titulo y cuento\n",
    "#casciari['titulo'] = casciari['titulo'].apply(lambda x: unidecode.unidecode(x)) \n",
    "casciari['cuento'] = casciari['cuento'].apply(lambda x: unidecode.unidecode(x))\n",
    "\n",
    "casciari[casciari['titulo'] == 'La venganza del metegol']['cuento'].iloc[0]"
   ]
  },
  {
   "cell_type": "code",
   "execution_count": 5,
   "metadata": {},
   "outputs": [
    {
     "data": {
      "text/plain": [
       "'el mes pasado me invitaron a presentar un libro en buenos aires y como era un libro sobre futbol al final de la charla el director de la editorial nos invito a jugar un partido de metegol ese invento espanol al que sus creadores llaman erroneamente futbolin hacia anos que no jugaba al metegol pero por suerte me toco de companero un filosofo muy prestigioso y pudimos ganar nuestros contrincantes eran el autor del libro y el director de la editorial de los tres a este ultimo lo conocia desde la juventud jugamos dos partidos enteros y los destrozamos con una facilidad pasmosa hacia anos que no practicaba este falso deporte de munecas y reflejos pero descubri que no habia perdido las manas eso me hizo sentir bien a mi edad cualquier destreza que mantengamos indemne por mas pelotuda que sea se convierte en una gran noticia despues de la charla algunos fotografos hicieron imagenes del partido de metegol y las subieron a twitter estadio libreria gandhi buenos aires locales a la izquierda alejandro duchini y gonzalo garces vistantes a la derecha tomas abraham y hernan casciari resultado o match o match paliza cuando volvi a casa recibi un mail de chiri mi mejor amigo desde la infancia me decia que habia visto las fotos y se sorprendia de que mi companero haya sido el mismo filosofo al que admirabamos en la juventud vos jugando al metegol con tomas abraham solamente puede pasar en un sueno me decia y era verdad en un momento durante el partido me imagine con diecisiete anos mirando por la ventana de la libreria gandhi esa escena del futuro y sonrei ese recuerdo momentaneo me desconcentro del juego y justo en ese momento me hicieron un gol el unico que recibi esa noche yo defendia la zaga fue un gol con molinete de gonzalo garces el director de la editorial galerna y el con injusticia me lo festejo en la cara de un modo muy antideportivo como si se tratara de la final del mundo entonces me vino a la cabeza algo que ya conte muchas veces en sobremesas con amigos y que ocurrio la noche en que lo conoci a gonzalo cuando los dos eramos adolescentes en ese entonces seria el ano noventa y uno me gustaba mucho pasar los veranos en mercedes mi pueblo porque mis padres se iban de vacaciones y me dejaban la casa sola mi amigo chiri llegaba los viernes muy de madrugada y pasaba por casa para ver si yo estaba despierto si veia luz en la habitacion me tocaba timbre y nos emborrachabamos por ahi si no veia luz entraba por la ventana de mi cuarto a oscuras y me despertaba de maneras horribles a veces me tiraba agua en la cara o me pegaba una patada en la panza o me metia un gato entre las cobijas o se subia arriba de las mantas y empezaba a bombearme desde atras como un amante desenfrenado el objetivo era despertarme siempre de una manera creativa pero cierto fin de semana paso que por la tarde conoci a gonzalo garces que entonces era una promesa de escritor de diecisiete anos y lo invite a pasar un fin de semana a mercedes gonzalo ya era entonces el cachorro de lo que es hoy una persona fina siempre muy bien banado de clase acomodada y sereno de hecho se habia convertido un ano antes a los dieciseis en el critico literario mas joven en la historia del diario porteno la nacion un prodigio garces siempre lo fue nos conocimos por casualidad porque aquel ano integramos una antologia de jovenes promesas literarias de entonces y se habia publicado un libro con veinte autores adolescentes yo lei su cuento y fue el unico que me gusto entonces lo llame por telefono y lo invite a casa para charlar estuvo en mercedes ese fin de semana lo lleve al carnaval del pueblo que es uno de los carnavales menos luminosos y mas tristes de la provincia de buenos aires la pasamos muy bien todo ese dia hasta el accidente nocturno gonzalo garces se quedo a dormir en casa y le ofreci mi habitacion yo me fui a dormir la borrachera a la cama de mis padres sin recordar la rutina de chiri por las madrugadas esa noche gonzalo un chico buen mozo y fragil se acosto y apago la luz en una ciudad desconocida de la llanura pampeana y se quedo dormido sin saber que en medio de la noche un borracho joven entraria a oscuras por la ventana y se subiria encima suyo para sodomizarlo yo no escuche el grito porque la habitacion de mis padres quedaba lejos no me entere de nada pero a la manana siguiente encontre a gonzalo en la cocina desayunaba con los pelos alborotados me dijo ayer entro un tipo por la ventana y me quiso fornicar yo estaba adentro de las sabanas y cuando saque la cabeza asustado el tipo me mira y me dice vos no sos el gordo y me deja de fornicar se levanta de la cama me pide disculpas y se escapa por la ventana iba en un ciclomotor de la marca zanella no aparecio nunca mas yo mire la taza de cafe que tenia gonzalo en la mano le temblaba antes de que se pusiera a llorar lo tranquilice estamos en carnaval le dije en estas epocas vale todo gonzalo el susto de garces fue enorme y yo crei siempre que se habia olvidado de aquello en esa epoca me preocupe mas por el susto de mi amigo chiri que duro muchos anos y fue traumatico creer que estas violando en chiste a un amigo gordo de toda la vida y ver de repente que estas violando en chiste a una promesa literaria menor de edad es horrible esa imagen no se va muy facil del subconsciente pobre chiri con el paso de los anos fue peor porque gonzalo garces empezo a crecer en el mundo hispanoamericano de las letras se convirtio en un gran escritor en un critico implacable en el director de una editorial prestigiosa y el trauma de chiri crecio siempre a la par de la consagracion de garces hace unos anos cuando gonzalo gano el premio seix barral chiri sintio mucha verguenza por haber violado en la oscuridad a alguien que habia conseguido el mismo galardon que vargas llosa pero ahora creo que el gol que me grito gonzalo garces a la cara durante el metegol con una mirada maradoniana y vengativa que jamas le habia visto antes casi mirando a camara fue una manera de decirme que todavia se acuerda que algo sigue roto en su alma que no le gustaron mucho los carnavales de mi pueblo hernan casciari noviembre '"
      ]
     },
     "execution_count": 5,
     "metadata": {},
     "output_type": "execute_result"
    }
   ],
   "source": [
    "# Eliminar signos de puntuación y otros\n",
    "#casciari['titulo'] = casciari['titulo'].apply(lambda x: re.sub(\"[^\\\\w\\\\s]|\\n\", ' ', x)) \n",
    "casciari['cuento'] = casciari['cuento'].apply(lambda x: re.sub(\"[^\\\\w\\\\s]|\\n\", ' ', x))\n",
    "\n",
    "# Eliminar números\n",
    "#casciari['titulo'] = casciari['titulo'].apply(lambda x: re.sub(\"\\d+\", \"\", x)) \n",
    "casciari['cuento'] = casciari['cuento'].apply(lambda x: re.sub(\"\\d+\", \"\", x))\n",
    "\n",
    "# Eliminar espacios dobles\n",
    "#casciari['titulo'] = casciari['titulo'].apply(lambda x: re.sub('\\s+', ' ', x)) \n",
    "casciari['cuento'] = casciari['cuento'].apply(lambda x: re.sub('\\s+', ' ', x))\n",
    "\n",
    "# Eliminar las mayúsculas\n",
    "#casciari['titulo'] = casciari['titulo'].apply(lambda x: x.lower())\n",
    "casciari['cuento'] = casciari['cuento'].apply(lambda x: x.lower())\n",
    "\n",
    "casciari[casciari['titulo'] == 'La venganza del metegol']['cuento'].iloc[0]"
   ]
  },
  {
   "cell_type": "code",
   "execution_count": 6,
   "metadata": {},
   "outputs": [],
   "source": [
    "## Proceso de Tokenización\n",
    "\n",
    "# Cargamos la librería a utilizar\n",
    "import spacy\n",
    "\n",
    "# Cargar el modelo para el español\n",
    "nlp = spacy.load(\"es_core_news_sm\")"
   ]
  },
  {
   "cell_type": "code",
   "execution_count": 7,
   "metadata": {},
   "outputs": [],
   "source": [
    "# Tokenizar el campo titulo y cuento\n",
    "#casciari['titulo'] = casciari['titulo'].apply(lambda x: nlp(x))\n",
    "casciari['cuento'] = casciari['cuento'].apply(lambda x: nlp(x)) "
   ]
  },
  {
   "cell_type": "code",
   "execution_count": 8,
   "metadata": {},
   "outputs": [
    {
     "data": {
      "text/plain": [
       "'mes invitaron presentar libro aires libro futbol charla director editorial invito jugar partido metegol invento espanol creadores llaman erroneamente futbolin anos jugaba metegol suerte toco companero filosofo prestigioso pudimos ganar contrincantes autor libro director editorial conocia juventud jugamos partidos enteros destrozamos facilidad pasmosa anos practicaba falso deporte munecas reflejos descubri perdido manas sentir edad destreza mantengamos indemne pelotuda convierte noticia charla fotografos imagenes partido metegol subieron twitter estadio libreria gandhi aires locales izquierda alejandro duchini gonzalo garces vistantes derecha tomas abraham hernan casciari resultado match match paliza volvi casa recibi mail chiri amigo infancia decia visto fotos sorprendia companero filosofo admirabamos juventud vos jugando metegol tomas abraham pasar sueno decia momento partido imagine diecisiete anos mirando ventana libreria gandhi escena futuro sonrei recuerdo momentaneo desconcentro juego justo momento gol unico recibi noche defendia zaga gol molinete gonzalo garces director editorial galerna injusticia festejo cara antideportivo tratara mundo vino cabeza conte sobremesas amigos ocurrio noche conoci gonzalo adolescentes seria ano noventa gustaba pasar veranos mercedes pueblo padres iban vacaciones dejaban casa amigo chiri llegaba viernes madrugada pasaba casa despierto veia luz habitacion tocaba timbre emborrachabamos veia luz entraba ventana cuarto oscuras despertaba maneras horribles tiraba agua cara pegaba patada panza metia gato cobijas subia mantas empezaba bombearme amante desenfrenado objetivo despertarme creativa semana paso conoci gonzalo garces promesa escritor diecisiete anos invite pasar semana mercedes gonzalo cachorro persona fina banado clase acomodada sereno convertido ano dieciseis critico literario joven historia diario porteno nacion prodigio garces conocimos casualidad ano integramos antologia jovenes promesas literarias publicado libro veinte autores adolescentes lei cuento unico gusto llame telefono invite casa charlar mercedes semana lleve carnaval pueblo carnavales luminosos tristes provincia aires pasamos accidente nocturno gonzalo garces quedo dormir casa ofreci habitacion dormir borrachera cama padres recordar rutina chiri madrugadas noche gonzalo chico mozo fragil acosto apago luz ciudad desconocida llanura pampeana quedo dormido noche borracho joven entraria oscuras ventana subiria sodomizarlo escuche grito habitacion padres quedaba lejos entere manana encontre gonzalo cocina desayunaba pelos alborotados ayer entro tipo ventana quiso fornicar adentro sabanas saque cabeza asustado tipo mira vos sos gordo deja fornicar levanta cama pide disculpas escapa ventana iba ciclomotor marca zanella aparecio mire taza cafe tenia gonzalo mano temblaba pusiera llorar tranquilice carnaval dije epocas vale gonzalo susto garces enorme crei olvidado epoca preocupe susto amigo chiri duro anos traumatico creer violando chiste amigo gordo vida violando chiste promesa literaria menor edad horrible imagen facil subconsciente pobre chiri paso anos gonzalo garces empezo crecer mundo hispanoamericano letras convirtio escritor critico implacable director editorial prestigiosa trauma chiri crecio par consagracion garces anos gonzalo gano premio seix barral chiri sintio verguenza violado oscuridad alguien conseguido galardon vargas llosa gol grito gonzalo garces cara metegol mirada maradoniana vengativa jamas visto mirando camara decirme acuerda roto alma gustaron carnavales pueblo hernan casciari noviembre'"
      ]
     },
     "execution_count": 8,
     "metadata": {},
     "output_type": "execute_result"
    }
   ],
   "source": [
    "# Eliminar las stopwords\n",
    "\n",
    "# Cargar el archivo adicional de extra_stopwords\n",
    "extra_stopwords = pd.read_csv('data/extra_stopwords.csv', sep=',',header=None)\n",
    "extra_stopwords.columns = ['stopwords']\n",
    "extra_stopwords=set(extra_stopwords['stopwords'].to_list())\n",
    "\n",
    "# Agregamos los nuevas stopwords a nuestro modelo de SpaCy\n",
    "nlp.Defaults.stop_words |= extra_stopwords\n",
    "\n",
    "# Cargar segundo archivo adicional de stopwords_taller\n",
    "stopwords_taller = pd.read_csv('data/stopwords_taller.csv', sep=',',header=None)\n",
    "stopwords_taller.columns = ['stopwords']\n",
    "stopwords_taller=set(stopwords_taller['stopwords'].to_list())\n",
    "\n",
    "# Agregamos los nuevas stopwords_taller a nuestro modelo de SpaCy\n",
    "nlp.Defaults.stop_words |= stopwords_taller\n",
    "\n",
    "# Creación de función de filtrado de stopwords\n",
    "def filtrar_stopwords(text):\n",
    "    text_filtrado = [token.text for token in text if not token.is_stop]\n",
    "    text_filtrado = \" \".join(text_filtrado)\n",
    "    return text_filtrado\n",
    "\n",
    "# Aplizar función de filtrar_stopwords a titulo y cuento\n",
    "#casciari['titulo'] = casciari['titulo'].apply(lambda x: filtrar_stopwords(x))\n",
    "casciari['cuento'] = casciari['cuento'].apply(lambda x: filtrar_stopwords(x))\n",
    "\n",
    "casciari[casciari['titulo'] == 'La venganza del metegol']['cuento'].iloc[0]"
   ]
  },
  {
   "cell_type": "code",
   "execution_count": 9,
   "metadata": {},
   "outputs": [
    {
     "data": {
      "text/plain": [
       "'mes invitar presentar libro aires libro futbol charla director editorial invito jugar partido metegol invento espanol creador llamar erroneamente futbolin ano jugar metegol suerte tocar companero filosofo prestigioso poder ganar contrincante autor libro director editorial conocio juventud jugamos partido entero destrozamos facilidad pasmós ano practicar falso deporte muneca reflejo descubri perdido mana sentir edad destreza mantengamos indemne pelotuda convertir noticia char él fotografo imagen partido metegol subir twitter estadio librerio gandhi air local izquierda alejandro duchini gonzalo garz vistant derecho toma abraham hernar casciari resultado match match palizo volvi casa recibi mail chiri amigo infancia decio visto foto sorprendia companero filosofo admirabar juventud vo jugar metegol toma abraham pasar sueno decia momento partido imaginar diecisiete ano mirar ventana librerio gandhi escenar futuro sonrei recuerdo momentaneo desconcentro juego justo momento gol unico recibi noche defendia zago gol molinete gonzalo garz director editorial galerno injusticia festejo cara antideportivo tratar mundo venir cabeza conte sobremesa amigo ocurrio noche conoci gonzalo adolescente serio ano noventa gustar pasar veranos mercedes pueblo padre ir vacación dejar casa amigo chiri llegar viernes madrugada pasar casa despierto veiar luz habitacion tocar timbre emborrachabamo veiar luz entrar ventana cuarto oscura despertar manera horrible tirar agua caro pegar patado panza metia gato cobija subio manta empezar bombearme amante desenfrenado objetivo despertar yo creativo semana paso conoci gonzalo garz promés escritor diecisiete ano invitir pasar semana merced gonzalo cachorro persona fino banado clase acomodado sereno convertido ano dieciseis critico literario joven historia diario porteno nacion prodigio garz conocer casualidad ano integramo antologia joven promesa literario publicado libro veinte autor adolescente lei cuento unico gusto llame telefono invite casa charlar merced semana llevar carnaval pueblo carnaval luminoso triste provincia aires pasar accidente nocturno gonzalo garz quedo dormir casa ofreci habitacion dormir borrachera cama padr recordar rutina chiri madrugada noche gonzalo chico mozo fragil acosto apago luz ciudad desconocido llanura pampeán quedo dormido noche borracho joven entrario oscuro ventán subirio sodomizar él escuche grito habitacion padre quedar lejos enterar manán encontre gonzalo cocina desayunar pelo alborotado ayer entro tipo ventana querer fornicar adentro sabana sacar cabeza asustado tipo mira vo so gordo dejar fornicar levanta cama pedir disculpa escapa ventán ir ciclomotor marca zanella aparecio mire taza cafe tenia gonzalo mano temblar poner llorar tranquilizar carnaval decir epoca valer gonzalo susto garz enorme crei olvidado epoca preocupe susto amigo chiri duro ano traumatico creer violar chiste amigo gordo vida violar chiste promesa literario menor edad horrible imagen facil subconsciente pobre chiri paso ano gonzalo garz empezo crecer mundo hispanoamericano letras convirtio escritor critico implacable director editorial prestigioso traumo chiri crecio par consagracion garz ano gonzalo gano premio seix barral chiri sintio verguenzo violado oscuridad alguien conseguido galardon vargas llosa gol grito gonzalo garz cara metegol mirada maradonián vengativo jama visto mirar camara  decir yo acuerda roto alma gustar carnaval pueblo hernar casciari noviembre'"
      ]
     },
     "execution_count": 9,
     "metadata": {},
     "output_type": "execute_result"
    }
   ],
   "source": [
    "## Proceso de lematización\n",
    "\n",
    "# Definir función de lematización\n",
    "\n",
    "def lematizar(text):\n",
    "    # Obtener los lemas por palabra\n",
    "    lemmas =[token.lemma_ for token in nlp(text)]\n",
    "\n",
    "    # Juntar los lemas\n",
    "    text_lematizado = \" \".join(lemmas)\n",
    "    \n",
    "    return text_lematizado\n",
    "\n",
    "# Aplicar la función lematizar a titulo y cuento\n",
    "#casciari['titulo'] = casciari['titulo'].apply(lambda x: lematizar(x))\n",
    "casciari['cuento'] = casciari['cuento'].apply(lambda x: lematizar(x))\n",
    "\n",
    "casciari[casciari['titulo'] == 'La venganza del metegol']['cuento'].iloc[0]"
   ]
  },
  {
   "cell_type": "code",
   "execution_count": 10,
   "metadata": {},
   "outputs": [
    {
     "data": {
      "text/plain": [
       "'mes invitar presentar libro aires libro futbol charla director editorial invito jugar partido metegol invento espanol creador llamar erroneamente futbolin ano jugar metegol suerte tocar companero filosofo prestigioso poder ganar contrincante autor libro director editorial conocio juventud jugamos partido entero destrozamos facilidad pasmós ano practicar falso deporte muneca reflejo descubri perdido mana sentir edad destreza mantengamos indemne pelotuda convertir noticia char fotografo imagen partido metegol subir twitter estadio librerio gandhi air local izquierda alejandro duchini gonzalo garz vistant derecho toma abraham hernar casciari resultado match match palizo volvi casa recibi mail chiri amigo infancia decio visto foto sorprendia companero filosofo admirabar juventud jugar metegol toma abraham pasar sueno decia momento partido imaginar diecisiete ano mirar ventana librerio gandhi escenar futuro sonrei recuerdo momentaneo desconcentro juego justo momento gol unico recibi noche defendia zago gol molinete gonzalo garz director editorial galerno injusticia festejo cara antideportivo tratar mundo venir cabeza conte sobremesa amigo ocurrio noche conoci gonzalo adolescente serio ano noventa gustar pasar veranos mercedes pueblo padre vacación dejar casa amigo chiri llegar viernes madrugada pasar casa despierto veiar luz habitacion tocar timbre emborrachabamo veiar luz entrar ventana cuarto oscura despertar manera horrible tirar agua caro pegar patado panza metia gato cobija subio manta empezar bombearme amante desenfrenado objetivo despertar creativo semana paso conoci gonzalo garz promés escritor diecisiete ano invitir pasar semana merced gonzalo cachorro persona fino banado clase acomodado sereno convertido ano dieciseis critico literario joven historia diario porteno nacion prodigio garz conocer casualidad ano integramo antologia joven promesa literario publicado libro veinte autor adolescente lei cuento unico gusto llame telefono invite casa charlar merced semana llevar carnaval pueblo carnaval luminoso triste provincia aires pasar accidente nocturno gonzalo garz quedo dormir casa ofreci habitacion dormir borrachera cama padr recordar rutina chiri madrugada noche gonzalo chico mozo fragil acosto apago luz ciudad desconocido llanura pampeán quedo dormido noche borracho joven entrario oscuro ventán subirio sodomizar escuche grito habitacion padre quedar lejos enterar manán encontre gonzalo cocina desayunar pelo alborotado ayer entro tipo ventana querer fornicar adentro sabana sacar cabeza asustado tipo mira gordo dejar fornicar levanta cama pedir disculpa escapa ventán ciclomotor marca zanella aparecio mire taza cafe tenia gonzalo mano temblar poner llorar tranquilizar carnaval decir epoca valer gonzalo susto garz enorme crei olvidado epoca preocupe susto amigo chiri duro ano traumatico creer violar chiste amigo gordo vida violar chiste promesa literario menor edad horrible imagen facil subconsciente pobre chiri paso ano gonzalo garz empezo crecer mundo hispanoamericano letras convirtio escritor critico implacable director editorial prestigioso traumo chiri crecio par consagracion garz ano gonzalo gano premio seix barral chiri sintio verguenzo violado oscuridad alguien conseguido galardon vargas llosa gol grito gonzalo garz cara metegol mirada maradonián vengativo jama visto mirar camara decir acuerda roto alma gustar carnaval pueblo hernar casciari noviembre'"
      ]
     },
     "execution_count": 10,
     "metadata": {},
     "output_type": "execute_result"
    }
   ],
   "source": [
    "# Eliminar las palabras con menos de dos letras\n",
    "#casciari['titulo'] = casciari['titulo'].apply(lambda x: [token.text for token in nlp(x) if len(token) > 2])\n",
    "casciari['cuento'] = casciari['cuento'].apply(lambda x: \" \".join([token.text for token in nlp(x) if len(token) > 2]))\n",
    "\n",
    "\n",
    "casciari[casciari['titulo'] == 'La venganza del metegol']['cuento'].iloc[0]"
   ]
  },
  {
   "cell_type": "markdown",
   "metadata": {},
   "source": [
    "(Utilice este espacio para describir el procedimiento, análisis, y conclusiones)\n",
    "\n",
    "**Procedimiento:**\n",
    "1. Cargar las librerias necesarias en cada paso del proceso de limpieza de textos\n",
    "2. Utilizar la función unidecode.unidecode para eliminar las tildes de las palabras que componian cada uno de los cuentos\n",
    "3. Utilizar las expresiones regulares para eliminar signos de puntuación, caracteres no alfanúmericos, dobles espacios y números del contenido de los cuentos\n",
    "4. Dejar todos los cuentos en minisculas\n",
    "5. Tokenizar cada cuento\n",
    "6. Definir el modelo de Spacy configurandolo al idioma español\n",
    "7. Cargar al modelo de Spacy los dos archivos adicionales de stopswords\n",
    "8. Eliminar las stopwords de los cuentos\n",
    "9. Lematizar\n",
    "10. Eliminar aquellas palabras con menos de dos letras\n",
    "\n",
    "**Análisis:** Mediante el proceso de limpieza, tokenización y lematización anterior se asegura la creación de vectores con las palabras relevantes y que caracterizan a cada uno de los cuentos, lo cual simplifica la posterior aplicación de modelos análiticos de recomendación.\n"
   ]
  },
  {
   "cell_type": "markdown",
   "metadata": {},
   "source": [
    "### 3. Generando Recomendaciones\n",
    "\n",
    "En esta sección nos interesa generar recomendaciones de cuentos en el blog a un usuario que leyó 'La venganza del metegol'. Para ello vamos a utilizar distintas estrategias."
   ]
  },
  {
   "cell_type": "markdown",
   "metadata": {},
   "source": [
    "#### 3.1. Recomendaciones basadas en contenidos\n",
    "\n",
    "##### 3.1.1. Genere 5 recomendaciones de más recomendada (1) a menos recomendada (5) para el cuento 'La venganza del metegol' usando en la distancia de coseno donde el texto este vectorizado por `CountVectorizer`. Explique el procedimiento que realizó y como ordenó las recomendaciones."
   ]
  },
  {
   "cell_type": "code",
   "execution_count": 11,
   "metadata": {},
   "outputs": [],
   "source": [
    "# Definir función recomendar\n",
    "\n",
    "def recomendar(titulo_cuento, distancia, cantidad_recomendaciones, base=casciari):\n",
    "\n",
    "    ## Definir como los indices los titulos de cada cuento\n",
    "    \n",
    "    # Eliminar los índices actuales\n",
    "    base = base.reset_index()\n",
    "    \n",
    "    # Crear una serie con los titulos únicos de cada cuento\n",
    "    indices = pd.Series(base.index, index=base['titulo']).drop_duplicates()\n",
    "    \n",
    "    # Definir la serie anterior como los nuevos indices de la base y filtrar por el titulos de interes\n",
    "    idx = indices[titulo_cuento]\n",
    "\n",
    "    ## Ordenar los cuentos de acuerdo a su distancia\n",
    "    \n",
    "    # Enlistar las distancias entre cuentos\n",
    "    distancia_scores = list(enumerate(distancia[idx]))\n",
    "\n",
    "    # Ordenar los cuentos de acuerdo a sus distancias\n",
    "    distancia_scores = sorted(distancia_scores, key=lambda x: x[1], reverse=True)\n",
    "\n",
    "    ## Seleccionar la cantidad de cuentos a recomendar\n",
    "    distancia_scores = distancia_scores[1:cantidad_recomendaciones+1]\n",
    "\n",
    "    # Crear listado con las recomendaciones\n",
    "    recomendaciones = [i[0] for i in distancia_scores]\n",
    "\n",
    "    return base['titulo'].iloc[recomendaciones]\n"
   ]
  },
  {
   "cell_type": "code",
   "execution_count": 12,
   "metadata": {},
   "outputs": [
    {
     "data": {
      "text/plain": [
       "416      Hace seis años también era domingo\n",
       "5                 El milagro de los pueblos\n",
       "133    Ser inmortal es vivir siete partidos\n",
       "121                           Gaussian blur\n",
       "159              Pajaritos en jaula gigante\n",
       "Name: titulo, dtype: object"
      ]
     },
     "execution_count": 12,
     "metadata": {},
     "output_type": "execute_result"
    }
   ],
   "source": [
    "# Utilice este espacio para escribir el código.\n",
    "\n",
    "# Importar las librerias necesarias\n",
    "from sklearn.feature_extraction.text import CountVectorizer\n",
    "from sklearn.metrics.pairwise import cosine_similarity\n",
    "\n",
    "# Crear los vectores de palabras usando CountVectorizer y la listas de stopwords definidas en el punto anterior\n",
    "count_vectorize = CountVectorizer(stop_words=list(nlp.Defaults.stop_words))\n",
    "count_vectorize_matrix = count_vectorize.fit_transform(casciari['cuento'])\n",
    "count_vectorize_matrix\n",
    "                               \n",
    "# Calcular la distancia del coseno\n",
    "cosine_distance = cosine_similarity(count_vectorize_matrix, count_vectorize_matrix)\n",
    "cosine_distance\n",
    "\n",
    "# Determinar las recomendaciones\n",
    "recomendar(titulo_cuento = 'La venganza del metegol', distancia = cosine_distance, cantidad_recomendaciones = 5, base=casciari)"
   ]
  },
  {
   "cell_type": "markdown",
   "metadata": {},
   "source": [
    "(Utilice este espacio para describir el procedimiento, análisis, y conclusiones)\n",
    "\n",
    "**Procedimiento:**\n",
    "1. Definir la función recomendar, la cual tiene como parámetros de entrada el cuento de partida a partir del cual definir las recomendaciones, la matriz de distancias, la cantidad de recomendaciones a dar y el dataframe base\n",
    "2. Vectorizar los cuentos utilizando CountVetorizer y definiendo como stopwords, la lista de stopwords ya ajustada con los archivos adicionales\n",
    "3. Crear la matriz de distancias usando como métrica para el calculo de las distancias entre cuentos\n",
    "4. Usando la función recomendar ordenar las distancias entre el titulo de cuento básico y el resto de cuentos, y seleccionar los n cuentos a recomendar, asegurando que el primer cuento sea el más cercano en distancia al cuento base y el n cuento a recomendar el n más cercano.\n",
    "\n",
    "**Análisis:** Los cuentos recomendados están relacionados con la añoranza al pasado y el futbol, lo cual se encuentra en línea con el cuento 'la venganza del metegol'\n",
    "\n"
   ]
  },
  {
   "cell_type": "markdown",
   "metadata": {},
   "source": [
    "##### 3.1.2. Genere 5 recomendaciones de más recomendada (1) a menos recomendada (5) para  el cuento 'La venganza del metegol' usando nuevamente la distancia de coseno, pero ahora vectorice el texto usando `TF-IDFVectorizer`. Explique el procedimiento que realizó y como ordenó las recomendaciones. Compare con los resultados del punto anterior y explique sus similitudes y/o diferencias."
   ]
  },
  {
   "cell_type": "code",
   "execution_count": 13,
   "metadata": {},
   "outputs": [
    {
     "data": {
      "text/plain": [
       "389    Una línea de puntos en un libro de catecismo\n",
       "17                    Cuento con bruja y tramontina\n",
       "14                     Dice el Chiri, dice el Gordo\n",
       "151                              La foto de Wasmosy\n",
       "113                       Los jefes y los empleados\n",
       "Name: titulo, dtype: object"
      ]
     },
     "execution_count": 13,
     "metadata": {},
     "output_type": "execute_result"
    }
   ],
   "source": [
    "# Utilice este espacio para escribir el código.\n",
    "\n",
    "# Cargar libreria necesaria\n",
    "from sklearn.feature_extraction.text import TfidfVectorizer\n",
    "from sklearn.metrics.pairwise import linear_kernel\n",
    "\n",
    "# Crear un objeto TF-IDF Vectorizer\n",
    "tfidf = TfidfVectorizer()\n",
    "\n",
    "# Crear la matriz TF-IDF\n",
    "tfidf_matrix = tfidf.fit_transform(casciari['cuento'])\n",
    " \n",
    "# Calculamos el producto punto entre las matrices TF-IDF\n",
    "cosine_distance = linear_kernel(tfidf_matrix, tfidf_matrix)\n",
    "\n",
    "# Determinar las recomendaciones\n",
    "recomendar(titulo_cuento = 'La venganza del metegol', distancia = cosine_distance, cantidad_recomendaciones = 5, base=casciari)"
   ]
  },
  {
   "cell_type": "markdown",
   "metadata": {},
   "source": [
    "(Utilice este espacio para describir el procedimiento, análisis, y conclusiones)\n",
    "\n",
    "**Procedimiento:**\n",
    "1. Crear un objeto TfidfVectorizer, entrenando y transformandolo con la información del los textos limpios de Casciari\n",
    "2. A partir de la martriz resultante, calcular el producto punto de la matriz contra si misma con el fin de calcular la distancia de coseno\n",
    "3. Incluir los resultados de las distancia en la función recomendar definida anteriormente\n",
    "\n",
    "**Análisis:** El recomendador selecciona cuentos relacionados con la añoranza del pasado, principalmente de la juventud y cuentos relacionados con el poder y la influencia de las amistades en el proceso."
   ]
  },
  {
   "cell_type": "markdown",
   "metadata": {},
   "source": [
    "##### 3.1.3. Genere 5 recomendaciones de más recomendada (1) a menos recomendada (5) para el cuento 'La venganza del metegol' usando el texto vectorizado por `TF-IDFVectorizer` y la correlación como medida de similitud. Explique el procedimiento que realizó y como ordenó las recomendaciones. Compare con los resultados de los puntos anteriores y explique sus similitudes y/o diferencias."
   ]
  },
  {
   "cell_type": "code",
   "execution_count": 58,
   "metadata": {},
   "outputs": [
    {
     "data": {
      "text/plain": [
       "389    Una línea de puntos en un libro de catecismo\n",
       "17                    Cuento con bruja y tramontina\n",
       "14                     Dice el Chiri, dice el Gordo\n",
       "151                              La foto de Wasmosy\n",
       "113                       Los jefes y los empleados\n",
       "Name: titulo, dtype: object"
      ]
     },
     "execution_count": 58,
     "metadata": {},
     "output_type": "execute_result"
    }
   ],
   "source": [
    "# Utilice este espacio para escribir el código.\n",
    "\n",
    "# Cargar la libreria necesaria\n",
    "import numpy as np\n",
    "\n",
    "# Crear un objeto TF-IDF Vectorizer\n",
    "tfidf = TfidfVectorizer()\n",
    "\n",
    "# Crear la matriz TF-IDF\n",
    "tfidf_matrix = tfidf.fit_transform(casciari['cuento'])\n",
    "\n",
    "# Calculamos correlación de la matriz TF-IDF\n",
    "corr_distance = np.corrcoef(tfidf_matrix.toarray())\n",
    "\n",
    "# Determinar las recomendaciones\n",
    "recomendar(titulo_cuento = 'La venganza del metegol', distancia = corr_distance, cantidad_recomendaciones = 5, base=casciari)"
   ]
  },
  {
   "cell_type": "markdown",
   "metadata": {},
   "source": [
    "(Utilice este espacio para describir el procedimiento, análisis, y conclusiones)\n",
    "\n",
    "**Procedimiento:**\n",
    "1. Crear un objeto TfidfVectorizer, entrenando y transformandolo con la información del los textos limpios de Casciari\n",
    "2. A partir de la martriz resultante, calcular la matriz de correlaciones\n",
    "3. Incluir los resultados de las distancia en la función recomendar definida anteriormente\n",
    "\n",
    "**Analisis:** Los cuentos recomendados concuerdan con aquellos seleccionados por el recomendador al usar TFID con distancias de coseno."
   ]
  },
  {
   "cell_type": "markdown",
   "metadata": {},
   "source": [
    "##### 3.2. Recomendaciones basadas en temas\n",
    "\n",
    "Usando modelado de temas con LDA, encuentre los temas subyacentes en el blog. Explique como eligió el numero óptimo de temas. Utilizando el tema asignado al cuento 'La venganza del metegol' y la probabilidad de pertenecer a este tema genere 5 recomendaciones de más recomendada (1) a menos recomendada (5) para este cuento. Explique el procedimiento que realizó. Compare con los resultados encontrados anteriormente y explique sus similitudes y/o diferencias. (Esto puede tomar mucho tiempo y requerir mucha capacidad computacional, puede aprovechar los recursos de [Google Colab](https://colab.research.google.com/))\n"
   ]
  },
  {
   "cell_type": "code",
   "execution_count": 20,
   "metadata": {},
   "outputs": [
    {
     "data": {
      "text/plain": [
       "<gensim.corpora.dictionary.Dictionary at 0x7ea82f9a1550>"
      ]
     },
     "execution_count": 20,
     "metadata": {},
     "output_type": "execute_result"
    }
   ],
   "source": [
    "# Utilice este espacio para escribir el código.\n",
    "\n",
    "# Cargar las librerias necesarias\n",
    "from gensim.corpora import Dictionary\n",
    "from gensim.models import LdaModel\n",
    "\n",
    "# Crear el diccionario con la representación de los cuentos\n",
    "diccionario = Dictionary(casciari['cuento'].apply(lambda x: [token.text for token in nlp(x) if len(token) > 2]))\n",
    "diccionario"
   ]
  },
  {
   "cell_type": "code",
   "execution_count": 22,
   "metadata": {},
   "outputs": [],
   "source": [
    "# Filtrar palabras que aparecen en al menos 10 páginas o en más del 50% de las páginas\n",
    "diccionario.filter_extremes(no_below = 20, no_above = 0.5)"
   ]
  },
  {
   "cell_type": "code",
   "execution_count": 24,
   "metadata": {},
   "outputs": [
    {
     "name": "stdout",
     "output_type": "stream",
     "text": [
      "El número de palabras únicas es: 1307\n"
     ]
    }
   ],
   "source": [
    "# Vectorizar el documento usando la función doc2bow\n",
    "corpus = [diccionario.doc2bow(cuento) for cuento in casciari['cuento'].apply(lambda x: [token.text for token in nlp(x) if len(token) > 2])]\n",
    "\n",
    "print('El número de palabras únicas es:', len(diccionario))"
   ]
  },
  {
   "cell_type": "code",
   "execution_count": 30,
   "metadata": {},
   "outputs": [],
   "source": [
    "casciari_clean = casciari['cuento'].apply(lambda x: [token.text for token in nlp(x) if len(token) > 2])"
   ]
  },
  {
   "cell_type": "code",
   "execution_count": 40,
   "metadata": {},
   "outputs": [],
   "source": [
    "# Selección del número de temas basado en la métrica de la coherencia\n",
    "\n",
    "# Cargar las librerias necesarias\n",
    "import matplotlib.pyplot as plt\n",
    "from gensim.models.ldamulticore import LdaMulticore\n",
    "\n",
    "# Definir la función de calculo iterativo de la coherencia\n",
    "def coherencia(diccionario, corpus, texts, start = 1, limit = 10, step = 1):\n",
    "    \n",
    "    # Definir listas vacias donde almacenar la información de las corridas\n",
    "    valores_coherencia = []\n",
    "    lista_modelos = []\n",
    "    \n",
    "    # Iterar ajustando el número de temas\n",
    "    \n",
    "    for cantidad_temas in range(start, limit, step):\n",
    "        LDA_model = LdaMulticore(corpus = corpus, id2word = diccionario, num_topics = cantidad_temas, random_state = 123, passes = 20)\n",
    "        lista_modelos.append(LDA_model)\n",
    "        modelo_coherencia = CoherenceModel(model = LDA_model, texts = texts, dictionary = diccionario, coherence = 'c_v')\n",
    "        valores_coherencia.append(modelo_coherencia.get_coherence())\n",
    "    \n",
    "    return lista_modelos, valores_coherencia\n",
    "\n",
    "# Aplicar función coherencia\n",
    "modelos_LDA, valores_coherencia = coherencia(diccionario=diccionario, corpus=corpus, texts=casciari_clean, start=1, limit=10, step=1)"
   ]
  },
  {
   "cell_type": "code",
   "execution_count": 33,
   "metadata": {},
   "outputs": [
    {
     "data": {
      "image/png": "[encoded data removed]",
      "text/plain": [
       "<Figure size 640x480 with 1 Axes>"
      ]
     },
     "metadata": {},
     "output_type": "display_data"
    }
   ],
   "source": [
    "# Gráficar resultados\n",
    "limit=10; start=1; step=1;\n",
    "x = range(start, limit, step)\n",
    "plt.plot(x, valores_coherencia)\n",
    "plt.xlabel(\"Número de Temas\")\n",
    "plt.ylabel(\"Medida de Coherencia\")\n",
    "plt.show()"
   ]
  },
  {
   "cell_type": "code",
   "execution_count": 39,
   "metadata": {},
   "outputs": [
    {
     "data": {
      "image/png": "[encoded data removed]",
      "text/plain": [
       "<Figure size 640x480 with 1 Axes>"
      ]
     },
     "metadata": {},
     "output_type": "display_data"
    }
   ],
   "source": [
    "# Seleccionar cantidad de temas basado en la métrica de la perplejidad\n",
    "\n",
    "# Definir la función de calculo iterativo de la perplejidad\n",
    "def perplejidad(dictionary, corpus, texts, start=1, limit=10, step=1):\n",
    "    \n",
    "    # Definir listas vacias donde almacenar la información de las corridas \n",
    "    valores_perplejidad = []\n",
    "    lista_modelos = []\n",
    "    \n",
    "    # Iterar ajustando el número de temas\n",
    "    for cantidad_temas in range(start, limit, step):\n",
    "        model_LDA = LdaMulticore(corpus=corpus,\n",
    "                        id2word=dictionary,\n",
    "                        num_topics=cantidad_temas, \n",
    "                        random_state=123,\n",
    "                        passes=20)\n",
    "        lista_modelos.append(model_LDA)\n",
    "        valores_perplejidad.append(np.exp2(-model_LDA.log_perplexity(corpus)))\n",
    "\n",
    "    return lista_modelos, valores_perplejidad\n",
    "\n",
    "# Aplicar función perplejidad\n",
    "modelos_LDA, valores_perplejidad = perplejidad(dictionary=diccionario, corpus=corpus, texts=casciari_clean, start=1, limit=10, step=1)\n",
    "\n",
    "# Gráficar resultados\n",
    "limit=10; start=1; step=1;\n",
    "x = range(start, limit, step)\n",
    "plt.plot(x, valores_perplejidad)\n",
    "plt.xlabel(\"Número de Temas\")\n",
    "plt.ylabel(\"Medida de Coherencia\")\n",
    "plt.show()"
   ]
  },
  {
   "cell_type": "code",
   "execution_count": 44,
   "metadata": {},
   "outputs": [
    {
     "data": {
      "text/plain": [
       "153          Nunca me importó el fútbol\n",
       "405     La frente alta, la frente tersa\n",
       "393        La leyenda del Negro Sánchez\n",
       "400                     M'hijo el dotor\n",
       "404    Tu cara me suena de alguna parte\n",
       "Name: titulo, dtype: object"
      ]
     },
     "execution_count": 44,
     "metadata": {},
     "output_type": "execute_result"
    }
   ],
   "source": [
    "# Entrenar y transformar\n",
    "\n",
    "# Cargar libreria necesaria\n",
    "from sklearn.decomposition import LatentDirichletAllocation\n",
    "\n",
    "# Crear los vectores de palabras usando CountVectorizer y la listas de stopwords definidas en el punto anterior\n",
    "count_vectorize = CountVectorizer(stop_words=list(nlp.Defaults.stop_words))\n",
    "count_vectorize_matrix = count_vectorize.fit_transform(casciari['cuento'])\n",
    "count_vectorize_matrix\n",
    "\n",
    "# Inicializar el objeto LDA\n",
    "lda_model = LatentDirichletAllocation(n_components=3, random_state=42)\n",
    "lda_model.fit(count_vectorize_matrix)\n",
    "temas_por_cuento = lda_model.transform(count_vectorize_matrix)\n",
    "\n",
    "# Crear matriz de distancias de coseno\n",
    "cosine_distance = cosine_similarity(temas_por_cuento, temas_por_cuento)\n",
    "cosine_distance\n",
    "\n",
    "# Determinar las recomendaciones\n",
    "recomendar(titulo_cuento = 'La venganza del metegol', distancia = cosine_distance, cantidad_recomendaciones = 5, base=casciari)"
   ]
  },
  {
   "cell_type": "markdown",
   "metadata": {},
   "source": [
    "(Utilice este espacio para describir el procedimiento, análisis, y conclusiones)\n",
    "\n",
    "**Procedimiento:**\n",
    "1. Crea el diccionario y el corpus con los textos limpios de los cuentos\n",
    "2. Definir la función coherencia la cual realizará un proceso iterativo de ajuste de la cantidad de temas clasificados con el fin de determinar con qué cantidad de temas se logra la máxima coherencia\n",
    "3. Definir la función perplejidad la cual realizará un proceso iterativo de ajuste de la cantidad de temas clasificados con el fin de determinar con qué cantidad de temas se logra la mínima perplejidad\n",
    "4. Vectorizar los cuentos\n",
    "5. Calcular la distancia de coseno\n",
    "6. Hacer las recomendaciones\n",
    "\n",
    "**Análisis:**\n",
    "Se encuentra que con 3 temas se logra la máxima coherencia y la mínima perplejidad, los cuentos recomendados se relacionan con temas diversos desde la vejez, el futbol y la conexión familia hasta los sueños, parecer estar menos concentrados en un mismo enfoque que los métodos anteriores"
   ]
  },
  {
   "cell_type": "markdown",
   "metadata": {},
   "source": [
    "### 4 Recomendaciones generales\n",
    "\n",
    "De acuerdo con los resultados encontrados, en su opinión ¿qué procedimiento generó las mejores recomendaciones para la entrada elegida? ¿Cómo implementaría una evaluación objetiva de estas recomendaciones? Justifique su respuesta."
   ]
  },
  {
   "cell_type": "markdown",
   "metadata": {},
   "source": [
    "(Utilice este espacio para describir su procedimiento)\n",
    "\n",
    "El procedimiento del TFID con la matriz de distancias de coseno y correlaciones, ambos generaron las mejores recomendaciones al identificar cuentos que trataban temas relacionados con la juventud y la añoranza de las amistades. Para implementar una evaluación objetiva de las recomendaciones se podría aplicar el índice de silhouette o evalouar la varianza interna de las recomendaciones, con el fin de identificar que recomendaciones se encuentran más cercanas entre sí. Así mismo, sería posible el uso de la métrica de la coherencia para validar la coherencia entre las recomendaciones dadas y el cuento base propuesto."
   ]
  }
 ],
 "metadata": {
  "kernelspec": {
   "display_name": "Python 3 (ipykernel)",
   "language": "python",
   "name": "python3"
  },
  "language_info": {
   "codemirror_mode": {
    "name": "ipython",
    "version": 3
   },
   "file_extension": ".py",
   "mimetype": "text/x-python",
   "name": "python",
   "nbconvert_exporter": "python",
   "pygments_lexer": "ipython3",
   "version": "3.7.6"
  },
  "toc": {
   "base_numbering": 1,
   "nav_menu": {},
   "number_sections": true,
   "sideBar": true,
   "skip_h1_title": false,
   "title_cell": "Table of Contents",
   "title_sidebar": "Contents",
   "toc_cell": false,
   "toc_position": {},
   "toc_section_display": true,
   "toc_window_display": false
  }
 },
 "nbformat": 4,
 "nbformat_minor": 5
}
